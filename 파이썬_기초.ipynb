{
  "cells": [
    {
      "cell_type": "markdown",
      "metadata": {
        "id": "view-in-github",
        "colab_type": "text"
      },
      "source": [
        "<a href=\"https://colab.research.google.com/github/ChaeYeEun/BaekjoonHub/blob/main/%ED%8C%8C%EC%9D%B4%EC%8D%AC_%EA%B8%B0%EC%B4%88.ipynb\" target=\"_parent\"><img src=\"https://colab.research.google.com/assets/colab-badge.svg\" alt=\"Open In Colab\"/></a>"
      ]
    },
    {
      "cell_type": "markdown",
      "metadata": {
        "id": "A0nTN-7WtELy"
      },
      "source": [
        " 파이썬은 띄어쓰기 조심!\n",
        " print문장은 화면에 출력해주는 명령어\n",
        " "
      ]
    },
    {
      "cell_type": "code",
      "execution_count": null,
      "metadata": {
        "colab": {
          "base_uri": "https://localhost:8080/"
        },
        "id": "ZGc3dJ8Lr_cd",
        "outputId": "417236dd-a9d2-4b3e-c13f-2982c4b91cd5"
      },
      "outputs": [
        {
          "name": "stdout",
          "output_type": "stream",
          "text": [
            "우와\n"
          ]
        }
      ],
      "source": [
        "print('우와') \n"
      ]
    },
    {
      "cell_type": "markdown",
      "metadata": {
        "id": "JCdcZAgou52Y"
      },
      "source": [
        "파이썬에서 변수만들기는 쉬움. 그냥 약속되지 않은 이름을 사용하면 됨."
      ]
    },
    {
      "cell_type": "code",
      "execution_count": null,
      "metadata": {
        "colab": {
          "base_uri": "https://localhost:8080/"
        },
        "id": "-q9ZSZyytY_R",
        "outputId": "ee88ef59-bd94-4b00-b183-27f049b17cc3"
      },
      "outputs": [
        {
          "name": "stdout",
          "output_type": "stream",
          "text": [
            "안녕하세요 난 채예은17\n"
          ]
        }
      ],
      "source": [
        "name = '채예은'  \n",
        "age = '17'\n",
        "print('안녕하세요 난 ' + name + age )"
      ]
    },
    {
      "cell_type": "markdown",
      "metadata": {
        "id": "qCfZjycHvTkw"
      },
      "source": [
        "안녕하세요 난 채예은이고 17살 입니다"
      ]
    },
    {
      "cell_type": "code",
      "source": [],
      "metadata": {
        "id": "MRbKQU02I6ga"
      },
      "execution_count": null,
      "outputs": []
    },
    {
      "cell_type": "code",
      "execution_count": null,
      "metadata": {
        "colab": {
          "base_uri": "https://localhost:8080/"
        },
        "id": "U_peeodu_6O9",
        "outputId": "864967aa-efad-4a54-e1b9-158e85535fa8"
      },
      "outputs": [
        {
          "name": "stdout",
          "output_type": "stream",
          "text": [
            "2\n",
            "1.6666666666666667\n"
          ]
        }
      ],
      "source": [
        "#연산자\n",
        "a = 5\n",
        "b = 3\n",
        "print(a%b) #나머지를 구하는 연산자\n",
        "print(a/b) "
      ]
    },
    {
      "cell_type": "code",
      "execution_count": null,
      "metadata": {
        "colab": {
          "base_uri": "https://localhost:8080/"
        },
        "id": "doWpW8nfAkJs",
        "outputId": "abbebe37-87b8-4fa3-c1d2-49e04b76af30"
      },
      "outputs": [
        {
          "name": "stdout",
          "output_type": "stream",
          "text": [
            "False\n",
            "True\n"
          ]
        }
      ],
      "source": [
        "a = 5\n",
        "b = 3\n",
        "print(a == b) # == 같은가? , 비교연산자\n",
        "print(a != b) # != 같지 않은가?"
      ]
    },
    {
      "cell_type": "code",
      "execution_count": null,
      "metadata": {
        "colab": {
          "base_uri": "https://localhost:8080/"
        },
        "id": "U1qnOgYxBGWl",
        "outputId": "b401900d-8061-4d5e-a7af-7108a4fcdd32"
      },
      "outputs": [
        {
          "name": "stdout",
          "output_type": "stream",
          "text": [
            "2 5\n"
          ]
        }
      ],
      "source": [
        "a = 5\n",
        "b = 2\n",
        "t = b\n",
        "b = a\n",
        "a = t\n",
        "print(a , b) #문제 : 서로 반대가 되게, 2 5 "
      ]
    },
    {
      "cell_type": "code",
      "execution_count": null,
      "metadata": {
        "colab": {
          "base_uri": "https://localhost:8080/"
        },
        "id": "LLUsB78ODUHU",
        "outputId": "0ef1de70-ac16-4e58-8a38-bd20220198de"
      },
      "outputs": [
        {
          "name": "stdout",
          "output_type": "stream",
          "text": [
            "10 5\n"
          ]
        }
      ],
      "source": [
        "# 번외  a,b만으로 자리 바꾸기 할 수 있을까?\n",
        "\n",
        "a = 5\n",
        "b = 10\n",
        "\n",
        "a = a + b #15\n",
        "b = a - b #5\n",
        "a = a - b #10\n",
        "\n",
        "print(a, b)"
      ]
    },
    {
      "cell_type": "code",
      "execution_count": null,
      "metadata": {
        "id": "x9oGT8i3c15N"
      },
      "outputs": [],
      "source": [
        "str = 'hello' # 문자열"
      ]
    },
    {
      "cell_type": "code",
      "execution_count": null,
      "metadata": {
        "colab": {
          "base_uri": "https://localhost:8080/"
        },
        "id": "z3R27GuWdDdM",
        "outputId": "f77bf9b2-18c7-48f5-c87b-d80348f3fbcb"
      },
      "outputs": [
        {
          "name": "stdout",
          "output_type": "stream",
          "text": [
            "hello\n"
          ]
        }
      ],
      "source": [
        "print(str)\n"
      ]
    },
    {
      "cell_type": "code",
      "execution_count": null,
      "metadata": {
        "colab": {
          "base_uri": "https://localhost:8080/"
        },
        "id": "_9kaAgbLdHvF",
        "outputId": "fffafbaf-a5ef-42be-cbf9-9102de650cd7"
      },
      "outputs": [
        {
          "name": "stdout",
          "output_type": "stream",
          "text": [
            "100\n",
            "채예은\n",
            "['김개똥', 100, '채예은']\n"
          ]
        }
      ],
      "source": [
        "# 우리반 학생의 성적을 저장. ( 1 ~ 10번 )\n",
        "# 방법 1\n",
        "s1 = '김개똥'\n",
        "s2 = '홍길동'\n",
        "# 만약 학생이 100명이라면 ? => 100개의 변수가 필요\n",
        "# 하나의 묶음으로 보관  = list (다른 언어에서는 배열 array)\n",
        "\n",
        "student = ['김개똥', '홍길동', 100] # 리스트(배열)에 다른 형태의 자료형 보관가능\n",
        "print(student[2])  # 리스트(배열) 번지는 0부터 시작\n",
        "\n",
        "student .append('채예은') #append는 새로운 항목을 추가 할 때\n",
        "print(student[3])\n",
        "\n",
        "# 리스트에서 쓸 수 있는 기능들은 어떤게 있을까??\n",
        "\n",
        "# 리스트에서 특정항목)(홍길동) 삭제\n",
        "student .pop (1) # 홍길동만 삭제\n",
        "# 다시 출력\n",
        "print(student)\n",
        " \n"
      ]
    },
    {
      "cell_type": "code",
      "execution_count": null,
      "metadata": {
        "colab": {
          "base_uri": "https://localhost:8080/"
        },
        "id": "nPoFEYJYjAE8",
        "outputId": "f4c634ba-e772-41bd-d158-eade29ea18d5"
      },
      "outputs": [
        {
          "name": "stdout",
          "output_type": "stream",
          "text": [
            "['김개똥', 100, 50, 70]\n",
            "100\n"
          ]
        }
      ],
      "source": [
        "from os import pipe\n",
        "# 만약 1번의 이름, 국어, 영어, 정보 성적을 보관\n",
        "# 2번의 이름, 국어, 영어, 정보\n",
        "s1 = ['김개똥', 100, 50, 70]\n",
        "s2 = ['홍길동', 60 , 70 ,100]\n",
        "\n",
        "cls = [s1, s2] # 리스트 (배열) 안에 리스트를 넣을 수 있음 => 2차원 리스트 (배열)\n",
        "print(cls[0])\n",
        "a1 = cls[0] # s1 = 김개똥의 배열\n",
        "print(cls[0][1])\n",
        "\n",
        "# 배열과 리스트가 같을까?? => 배열은 크기 = 변경불가 , 리스트는 변함\n",
        "\n"
      ]
    },
    {
      "cell_type": "code",
      "execution_count": null,
      "metadata": {
        "colab": {
          "base_uri": "https://localhost:8080/"
        },
        "id": "xJRFB12-pleG",
        "outputId": "6dcb5dfc-1b8d-4e08-e97c-d4ace336b144"
      },
      "outputs": [
        {
          "name": "stdout",
          "output_type": "stream",
          "text": [
            "<class 'list'>\n",
            "<class 'float'>\n",
            "<class 'int'>\n"
          ]
        }
      ],
      "source": [
        "# 여기만 실행 ㄴㄴ\n",
        "# type(변수) = 변수의 타입 (자료의 형태를 출력)\n",
        "\n",
        "print(type(cls)) #cls의 자료형\n",
        "\n",
        "num = 3.141592\n",
        "print(type(num))\n",
        "\n",
        "num2 = 3\n",
        "print(type(num2))\n",
        "\n"
      ]
    },
    {
      "cell_type": "code",
      "execution_count": null,
      "metadata": {
        "colab": {
          "base_uri": "https://localhost:8080/"
        },
        "id": "Zlr7m_YerMi-",
        "outputId": "49d7049d-5bee-422d-e492-3de53be8371b"
      },
      "outputs": [
        {
          "name": "stdout",
          "output_type": "stream",
          "text": [
            "이름을 입력하세요\n",
            "우롹굳\n",
            "hello 우롹굳\n"
          ]
        }
      ],
      "source": [
        "# 사용자 입력\n",
        "print('이름을 입력하세요')\n",
        "name = input() # 입력하기 기능\n",
        "#또는 name = input('이름을 입력하세요')\n",
        "#print('hello', name )\n",
        "#print('hello' + name)\n",
        "print(f'hello {name}')  # f' 로 시작하는 포맷팅을 이용해서 변수를 안에 표현 가능\n",
        "\n"
      ]
    },
    {
      "cell_type": "code",
      "execution_count": null,
      "metadata": {
        "colab": {
          "base_uri": "https://localhost:8080/"
        },
        "id": "twznMBqD9ZcU",
        "outputId": "19a1c553-40ec-4d5a-b553-258b28c817b3"
      },
      "outputs": [
        {
          "name": "stdout",
          "output_type": "stream",
          "text": [
            "o\n",
            "11\n",
            "5\n"
          ]
        }
      ],
      "source": [
        " # 리스트에 관해서 .. 문자열\n",
        " # string = 문자열\n",
        "str = 'hello world'\n",
        "print(str[4]) # [ 'h' , 'e' 'l'[.....] ] 으로 저장되고 있음\n",
        "print(  len(str)  ) # len() 기능은 문자의 길이를 출력\n",
        "\n",
        "list = [1,2,3,4,5] #배열의 길이를 알 수 있을까?\n",
        "print(len(list))"
      ]
    },
    {
      "cell_type": "code",
      "execution_count": null,
      "metadata": {
        "colab": {
          "base_uri": "https://localhost:8080/"
        },
        "id": "ScEKaxmg-6Vs",
        "outputId": "fd742ceb-5a3f-40c6-e60f-66c5950d1674"
      },
      "outputs": [
        {
          "name": "stdout",
          "output_type": "stream",
          "text": [
            "2\n",
            "반복중\n",
            "3\n",
            "반복중\n",
            "4\n",
            "반복중\n"
          ]
        }
      ],
      "source": [
        "# 반복문 - 반복된 작업을 쉽게\n",
        "# 상황 - 리스트 [0,0,0,0,0,0,...] => 100칸 생성\n",
        "#list = [0,0.... 0 ]또는\n",
        "# list = [] list.append(0)\n",
        "\n",
        "#, 반복문 for while\n",
        "# for = 제한된 횟수 만큼 반복\n",
        "# k = 반복하면서 사용할 변수\n",
        "# range(범위) 0~범위 -1 까지\n",
        "for k in range(2,5): # 2부터 5-1까지\n",
        "# : 표시는 중괄호 시작이랑 같은 뜻\n",
        "# 안에 들여쓰기를 했음\n",
        "  print(k) # k는 0~9까지 변수\n",
        "  print('반복중')\n",
        "  "
      ]
    },
    {
      "cell_type": "code",
      "source": [],
      "metadata": {
        "id": "14yrUgFg1drP"
      },
      "execution_count": null,
      "outputs": []
    },
    {
      "cell_type": "code",
      "execution_count": null,
      "metadata": {
        "colab": {
          "base_uri": "https://localhost:8080/"
        },
        "id": "n-jdnI_9BZwj",
        "outputId": "ebfcbf9b-ea3e-4bb8-dfc1-97f52500833b"
      },
      "outputs": [
        {
          "name": "stdout",
          "output_type": "stream",
          "text": [
            "[0, 2, 4, 6, 8, 10, 12, 14, 16, 18, 20, 22, 24, 26, 28, 30, 32, 34, 36, 38, 40, 42, 44, 46, 48, 50, 52, 54, 56, 58, 60, 62, 64, 66, 68, 70, 72, 74, 76, 78, 80, 82, 84, 86, 88, 90, 92, 94, 96, 98, 100, 102, 104, 106, 108, 110, 112, 114, 116, 118, 120, 122, 124, 126, 128, 130, 132, 134, 136, 138, 140, 142, 144, 146, 148, 150, 152, 154, 156, 158, 160, 162, 164, 166, 168, 170, 172, 174, 176, 178, 180, 182, 184, 186, 188, 190, 192, 194, 196, 198]\n"
          ]
        }
      ],
      "source": [
        "# 100개의 리스트 배열을 만들고 [0,2,4,6 ....] 순서로 값을 초기화\n",
        "# 배열의 항목을 추가하는 명령어 append\n",
        "\n",
        "list = []\n",
        "\n",
        "# list . append(0)\n",
        "# list . append(2)\n",
        "# list . append(4)\n",
        "\n",
        "# for 변수 in 범위:\n",
        "# 반복내용\n",
        "for n in range(100):\n",
        " # n = 0,1,2,....99\n",
        " list.append(n*2)\n",
        "\n",
        "###################\n",
        "#... 100번 \n",
        "print(list)\n",
        "#[0,2,4,6,8....98]\n",
        "\n"
      ]
    },
    {
      "cell_type": "code",
      "execution_count": null,
      "metadata": {
        "colab": {
          "base_uri": "https://localhost:8080/"
        },
        "id": "Ts65gdf6FF_D",
        "outputId": "573bff6f-9c75-4e1e-a557-1fd0d28faecf"
      },
      "outputs": [
        {
          "name": "stdout",
          "output_type": "stream",
          "text": [
            "0\n",
            "2\n",
            "4\n",
            "6\n",
            "8\n",
            "10\n",
            "12\n",
            "14\n",
            "16\n",
            "18\n",
            "20\n",
            "22\n",
            "24\n",
            "26\n",
            "28\n",
            "30\n",
            "32\n",
            "34\n",
            "36\n",
            "38\n",
            "40\n",
            "42\n",
            "44\n",
            "46\n",
            "48\n",
            "50\n",
            "52\n",
            "54\n",
            "56\n",
            "58\n",
            "60\n",
            "62\n",
            "64\n",
            "66\n",
            "68\n",
            "70\n",
            "72\n",
            "74\n",
            "76\n",
            "78\n",
            "80\n",
            "82\n",
            "84\n",
            "86\n",
            "88\n",
            "90\n",
            "92\n",
            "94\n",
            "96\n",
            "98\n",
            "100\n",
            "102\n",
            "104\n",
            "106\n",
            "108\n",
            "110\n",
            "112\n",
            "114\n",
            "116\n",
            "118\n",
            "120\n",
            "122\n",
            "124\n",
            "126\n",
            "128\n",
            "130\n",
            "132\n",
            "134\n",
            "136\n",
            "138\n",
            "140\n",
            "142\n",
            "144\n",
            "146\n",
            "148\n",
            "150\n",
            "152\n",
            "154\n",
            "156\n",
            "158\n",
            "160\n",
            "162\n",
            "164\n",
            "166\n",
            "168\n",
            "170\n",
            "172\n",
            "174\n",
            "176\n",
            "178\n",
            "180\n",
            "182\n",
            "184\n",
            "186\n",
            "188\n",
            "190\n",
            "192\n",
            "194\n",
            "196\n",
            "198\n"
          ]
        }
      ],
      "source": [
        "\n",
        "for k in range(0,200,2):\n",
        "  \n",
        "  print(k)"
      ]
    },
    {
      "cell_type": "code",
      "execution_count": null,
      "metadata": {
        "colab": {
          "base_uri": "https://localhost:8080/"
        },
        "id": "wfzm0EL7e2Zj",
        "outputId": "4431ffed-f8dd-4546-9860-2ad951a32189"
      },
      "outputs": [
        {
          "name": "stdout",
          "output_type": "stream",
          "text": [
            "숫자를 입력하세요3\n",
            "333\n",
            "9\n"
          ]
        }
      ],
      "source": [
        "# for문은 반복문 => 똑같은 작업을 할 수 있도록 횟수를 지정하는 반복문\n",
        "# 입력하는 단의 구구단 출력\n",
        "# 예)  3입력 => 3 ....3*9 = 27\n",
        "n = input('숫자를 입력하세요')\n",
        "print(n*3) # input으로 받은 값은 문자로 처리됨 ((3을 세번 써로 인식\n",
        "k = int(n) # int 타입= 정수값으로 변경\n",
        "print(k*3)\n",
        "## ==>>>> n = int(input('숫자입력'))"
      ]
    },
    {
      "cell_type": "code",
      "execution_count": null,
      "metadata": {
        "colab": {
          "base_uri": "https://localhost:8080/"
        },
        "id": "dakb6xR9iBr6",
        "outputId": "46af1931-5119-48d1-98ae-2b0745752dea"
      },
      "outputs": [
        {
          "name": "stdout",
          "output_type": "stream",
          "text": [
            "몇단을 출력할까요?3\n",
            "3 * 1 = 3\n",
            "3 * 2 = 6\n",
            "3 * 3 = 9\n",
            "3 * 4 = 12\n",
            "3 * 5 = 15\n",
            "3 * 6 = 18\n",
            "3 * 7 = 21\n",
            "3 * 8 = 24\n",
            "3 * 9 = 27\n"
          ]
        }
      ],
      "source": [
        "# 진짜 입력 받은 숫자를 가지고 구구단 만들기\n",
        "# 입력하는 단의 구구단 출력\n",
        "# 예) 3 입력 => 3*1 = 3 ..... 3*9 =27\n",
        "\n",
        "num = int(input('몇단을 출력할까요?'))\n",
        "for i in range(1, 10): # 1부터 10 전까지 = 1~9 # 콜론 : 붙여야함\n",
        "  print(num, \"*\", i, \"=\", num * i)\n",
        "  #(f'{n} * {i} = {n*i}') 선생님이 하신 방법"
      ]
    },
    {
      "cell_type": "code",
      "execution_count": null,
      "metadata": {
        "colab": {
          "base_uri": "https://localhost:8080/"
        },
        "id": "oW4AotsztFC1",
        "outputId": "8e0809ad-ce83-4a43-b5b3-5be5d5f53cea"
      },
      "outputs": [
        {
          "name": "stdout",
          "output_type": "stream",
          "text": [
            "숫자 입력10\n",
            "1\n",
            "2\n",
            "X\n",
            "4\n",
            "5\n",
            "6\n",
            "7\n",
            "8\n",
            "9\n",
            "10\n"
          ]
        }
      ],
      "source": [
        "#  1~  입력수 n 까지 369게임   ( n = 2~9)\n",
        "#  3,6,9에는 대문자 X를 출력  \n",
        "# 그리고 숫자마다 공백\n",
        "\n",
        "# 0. 사용자 입력을 숫자로 받기\n",
        "# 1. 1부터 입력수 까지 출력 =>   for문 필요\n",
        "# 2. 3,6,9 인지 판단 하여 X로 변환\n",
        "\n",
        "k = int(   input('숫자 입력')         )\n",
        "for i in range(1, k+1):\n",
        "  #i 는   1부터 k까지 나옴...\n",
        "  \n",
        "  #if 조건 :   => 참인지 검사\n",
        "  # 참이라면 수행할 내용\n",
        "  #if i 가 3이랑 같은가  \n",
        "  if i == 3 :  #등호를 하나만 쓰면,   <-  복사,      == 비교하는것\n",
        "    #들여쓰기 조심\n",
        "    print('X')\n",
        "  else:  #그 밖에  if와 같이 사용됨. if는 혼자 쓸수 있지만, else 혼자 사용 불가\n",
        "    #들여쓰기 조심\n",
        "    print(i)\n"
      ]
    },
    {
      "cell_type": "code",
      "execution_count": null,
      "metadata": {
        "colab": {
          "base_uri": "https://localhost:8080/"
        },
        "id": "EqXLjNlux-Wc",
        "outputId": "05dc6cbe-d39d-4eef-8b9c-a3b71b7f1e3b"
      },
      "outputs": [
        {
          "name": "stdout",
          "output_type": "stream",
          "text": [
            "숫자10\n",
            "1\n",
            "2\n",
            "X\n",
            "4\n",
            "5\n",
            "X\n",
            "7\n",
            "8\n",
            "X\n",
            "10\n"
          ]
        }
      ],
      "source": [
        "# 나머지 연산자 알기\n",
        "n = int(input('숫자'))\n",
        "\n",
        "for i in range(1, n+1):\n",
        "  #만약 3으로 나누어 떨어지는가 ==  나머지가 0인가\n",
        "  #  % = 나머지 연산자 =>      10 % 3 = 1\n",
        "  if i % 3  ==  0:   # 3,6,9\n",
        "    print('X')\n",
        "  else:\n",
        "    print(i)"
      ]
    },
    {
      "cell_type": "code",
      "execution_count": null,
      "metadata": {
        "colab": {
          "base_uri": "https://localhost:8080/"
        },
        "id": "e7E1GUYjzdQb",
        "outputId": "a36c8786-1ad4-4ee1-9038-601e23f4144d"
      },
      "outputs": [
        {
          "name": "stdout",
          "output_type": "stream",
          "text": [
            "숫자10\n",
            "1\n",
            "2\n",
            "X\n",
            "4\n",
            "5\n",
            "X\n",
            "7\n",
            "8\n",
            "X\n",
            "10\n"
          ]
        }
      ],
      "source": [
        "# OR연산자, AND연산자  =>  OR 연산자\n",
        "n = int(input('숫자'))\n",
        "\n",
        "for i in range(1, n+1):  \n",
        "  if i == 3  or  i == 6   or   i == 9 :\n",
        "    print('X')\n",
        "  else:\n",
        "    print(i)"
      ]
    },
    {
      "cell_type": "code",
      "execution_count": null,
      "metadata": {
        "colab": {
          "base_uri": "https://localhost:8080/"
        },
        "id": "h35bGCgfECJH",
        "outputId": "be6e3d59-9f2e-4e90-b893-279bd5ab0483"
      },
      "outputs": [
        {
          "name": "stdout",
          "output_type": "stream",
          "text": [
            "입니다\n"
          ]
        }
      ],
      "source": [
        "# if문 복습 for 문과 연계\n",
        "# if = 조건 검사 = 만약 조건이 참이면 수행할 내용 작성\n",
        "\n",
        "a = 4\n",
        "# a가 5보다 크다면 \"큰수\" 출력,\n",
        "if a > 5 : \n",
        "  print('큰 수')\n",
        "  print('입니다')\n",
        "# 콜론 표시의 주의 ~\n",
        "# 클론 다음에는 현재보다 들여쓰기 (탭)\n",
        "\n",
        "## 차이점 \n",
        "\n",
        "if a > 5 : \n",
        "  print('큰 수')\n",
        "print('입니다')\n",
        "\n",
        "if a > 5 :\n",
        "  print('큰 수')\n",
        "else: #else = '그 밖에' 참이 아닌 경우는 전부 이쪽으로 오게됨.      \n",
        "  print('작은 수')\n",
        "\n"
      ]
    },
    {
      "cell_type": "code",
      "source": [],
      "metadata": {
        "id": "dpKSXOY_itA0"
      },
      "execution_count": null,
      "outputs": []
    },
    {
      "cell_type": "code",
      "execution_count": null,
      "metadata": {
        "colab": {
          "base_uri": "https://localhost:8080/",
          "height": 376
        },
        "id": "4xNJPzTrFld8",
        "outputId": "7ecd0c4a-f637-4b56-de2e-b933fd3e3ee2"
      },
      "outputs": [
        {
          "name": "stdout",
          "output_type": "stream",
          "text": [
            "정답은?15\n",
            "정답\n",
            "정답은?14\n",
            "정답은?14\n",
            "정답은?1\n",
            "정답은?1\n",
            "정답은?\n"
          ]
        },
        {
          "output_type": "error",
          "ename": "ValueError",
          "evalue": "ignored",
          "traceback": [
            "\u001b[0;31m---------------------------------------------------------------------------\u001b[0m",
            "\u001b[0;31mValueError\u001b[0m                                Traceback (most recent call last)",
            "\u001b[0;32m<ipython-input-14-20644a9d2013>\u001b[0m in \u001b[0;36m<cell line: 12>\u001b[0;34m()\u001b[0m\n\u001b[1;32m     11\u001b[0m \u001b[0;34m\u001b[0m\u001b[0m\n\u001b[1;32m     12\u001b[0m \u001b[0;32mfor\u001b[0m \u001b[0mi\u001b[0m \u001b[0;32min\u001b[0m \u001b[0mrange\u001b[0m\u001b[0;34m(\u001b[0m\u001b[0;36m10\u001b[0m\u001b[0;34m)\u001b[0m\u001b[0;34m:\u001b[0m\u001b[0;34m\u001b[0m\u001b[0;34m\u001b[0m\u001b[0m\n\u001b[0;32m---> 13\u001b[0;31m   \u001b[0mnum\u001b[0m \u001b[0;34m=\u001b[0m \u001b[0mint\u001b[0m\u001b[0;34m(\u001b[0m\u001b[0minput\u001b[0m\u001b[0;34m(\u001b[0m\u001b[0;34m'정답은?'\u001b[0m\u001b[0;34m)\u001b[0m\u001b[0;34m)\u001b[0m \u001b[0;31m# 입력 문자를 숫자로 받아침\u001b[0m\u001b[0;34m\u001b[0m\u001b[0;34m\u001b[0m\u001b[0m\n\u001b[0m\u001b[1;32m     14\u001b[0m \u001b[0;34m\u001b[0m\u001b[0m\n\u001b[1;32m     15\u001b[0m \u001b[0;31m# ans랑num랑 같은가?\u001b[0m\u001b[0;34m\u001b[0m\u001b[0;34m\u001b[0m\u001b[0m\n",
            "\u001b[0;31mValueError\u001b[0m: invalid literal for int() with base 10: ''"
          ]
        }
      ],
      "source": [
        "4414\n",
        "111\n",
        "11\n",
        "123325\n",
        "# 내가 생각한 숫자 맞추기\n",
        "# 10번의 기회동안 숫자를 맞춤\n",
        "# 10번의 기회 => 10번 동안의 입력을 받아야함\n",
        "# 10번 동안 => 10번 반복 => for문 필요\n",
        "# 입력받음 => input() 필요\n",
        "# 내가 입력한 숫자가 맞는지 검사 (만약 일치하나??) => if문 필요\n",
        "# 10번 반복할 동안 검사를 매번 수행 => for문 안에서 입력도 받고, 검사도 하고\n",
        "\n",
        "ans = 15 # 정답\n",
        "\n",
        "for i in range(10):\n",
        "  num = int(input('정답은?')) # 입력 문자를 숫자로 받아침\n",
        "  \n",
        "# ans랑num랑 같은가?\n",
        "  if ans == num:\n",
        "   print('정답')\n",
        "else:\n",
        "  print('오답')"
      ]
    },
    {
      "cell_type": "code",
      "source": [
        "#숫자를 입력받기 기능 => n이라고 하자\n",
        "#1부터 n까지 반복 => for\n",
        "#반복하면서 나오는 숫자가 짝수 인지 검사 %2 == 0\n",
        "#합 구하기 => 합을 보관하는 변수 sum을 만들자\n",
        "#sum변수를 누적해서 저장하자\n",
        "\n",
        "n = int(input(\"숫자를 입력\"))\n",
        "sum = 0 #합계\n",
        "for i in range(1, n+1):\n",
        "  #i가 1~n까지 값이 들어옴\n",
        "  #i가 짝수인지 판단\n",
        "  if i%2 == 0:\n",
        "    #sum에다 i를 누적한다는 것은 현재 sum에 i룰 추가 => sum에 보관\n",
        "    sum = sum+i\n",
        "\n",
        "#반복이 끝났음.\n",
        "print(sum)"
      ],
      "metadata": {
        "id": "5ifWficqjj0e",
        "colab": {
          "base_uri": "https://localhost:8080/"
        },
        "outputId": "abc194a0-a9c5-4118-f753-c8ad1ba44cfa"
      },
      "execution_count": null,
      "outputs": [
        {
          "output_type": "stream",
          "name": "stdout",
          "text": [
            "숫자를 입력12\n",
            "42\n"
          ]
        }
      ]
    },
    {
      "cell_type": "code",
      "source": [
        "n = int(input())\n",
        "sum = 0\n",
        "for i in range(2, n+1, 2):\n",
        "    sum = sum+i\n",
        "print(sum)"
      ],
      "metadata": {
        "id": "9Ep4wxOvqTby"
      },
      "execution_count": null,
      "outputs": []
    },
    {
      "cell_type": "code",
      "source": [
        "n = int(input())\n",
        "sum = 0\n",
        "\n",
        "if n%2 != 0:\n",
        "  n = n-1 #n을 마지막 짝수로 만듬\n",
        "mid = int(n/2) + 1\n",
        "sum = ((n+2) * int(n/4)) + mid\n",
        "print(sum)"
      ],
      "metadata": {
        "colab": {
          "base_uri": "https://localhost:8080/"
        },
        "id": "k_QO8fZEqd8T",
        "outputId": "0fe7d155-6647-4645-9407-89d0b971cf95"
      },
      "execution_count": null,
      "outputs": [
        {
          "output_type": "stream",
          "name": "stdout",
          "text": [
            "30\n",
            "240\n"
          ]
        }
      ]
    },
    {
      "cell_type": "code",
      "source": [
        "#가위 1 바위 2 보 3\n",
        "#\n",
        "\n",
        "me = int(input('뭐 낼래? 가위 1 바위 2 보 3' ))\n",
        "com =  int(input())\n",
        "\n",
        "#나의 컴의 비교를 해서 승, 패, 무승부 출력!\n",
        "\n",
        "if me == com:\n",
        "  print('무승부')\n",
        "\n",
        "#내가 이기는 경우\n",
        "# 나1 - 컴3 , 나2 - 컴1, 나3-컴2\n",
        "\n",
        "elif (me == 1 and com== 3) or (me == 2 and com == 1)  or (me == 3 and com == 2) :\n",
        "  print('승리') \n",
        "else:\n",
        "  print('패배')\n",
        "\n",
        "#elif me == 2 and com == 1 :\n",
        "#  print('승리')\n",
        "\n",
        "#elif me == 3 and com == 2 :\n",
        "#  print('승리')\n",
        "\n",
        "#if me == 3 : \n",
        "#  print('패배')"
      ],
      "metadata": {
        "colab": {
          "base_uri": "https://localhost:8080/"
        },
        "id": "AHm8DG4ev23l",
        "outputId": "07c88620-3038-4afa-a0e9-74e6926eb0cc"
      },
      "execution_count": null,
      "outputs": [
        {
          "output_type": "stream",
          "name": "stdout",
          "text": [
            "뭐 낼래? 가위 1 바위 2 보 3 2\n",
            "2\n",
            "무승부\n"
          ]
        }
      ]
    },
    {
      "cell_type": "markdown",
      "source": [
        "가위 1 바위 2 보 3\n",
        "\n",
        "이기는 조건\n",
        "1 3 = -2\n",
        "2 1 = 1\n",
        "3 2 = 1\n",
        "me - com == -2 or me - com == 1 로도 가능한데\n",
        "\n",
        "더 변태적인게잇다\n",
        "\n",
        "1 3 = -2 % 3 = 1\n",
        "2 1 = 1 % 3 = 1\n",
        "3 2 = 1 % 3 = 1\n",
        "\n",
        "\n",
        "\n",
        "for range(a,b,c)\n",
        "\n",
        "if else\n",
        "if elif\n",
        "if elis else\n",
        "\n",
        "elif, else 단독으로 쓰일 수 없다\n",
        "\n",
        "or,and 논리연산자\n",
        "== 비교연산자 (참 거짓)\n",
        "\n",
        "bool = 참 거짓을 보관하는 변수 타입\n",
        "int k\n",
        "char k \n",
        "\n",
        "\n"
      ],
      "metadata": {
        "id": "9KCPR8za2Vb-"
      }
    },
    {
      "cell_type": "code",
      "source": [
        "# 1이 입력되면 0 , 0 이 입력되면 1로 출력하는 프로그램 만들자 \n",
        "n = int(input())\n",
        "if n == 1:\n",
        "  print(0)\n",
        "elif n == 0:\n",
        "  print(1)\n",
        "\n",
        "#만약 n = input()\n",
        "#이면 n은 문자값이므로 오류가 난다\n",
        "#그래서 숫자로 바꾸어주는 int() 라는 명령어로 덮어줌\n"
      ],
      "metadata": {
        "colab": {
          "base_uri": "https://localhost:8080/"
        },
        "id": "ai62id1mDRA8",
        "outputId": "57712cc8-94f8-4ade-cbfe-02d583208790"
      },
      "execution_count": null,
      "outputs": [
        {
          "output_type": "stream",
          "name": "stdout",
          "text": [
            "1\n",
            "0\n"
          ]
        }
      ]
    },
    {
      "cell_type": "code",
      "source": [
        "# 쌤이 하신 거\n",
        "n = int(input())\n",
        "print(1-n)"
      ],
      "metadata": {
        "colab": {
          "base_uri": "https://localhost:8080/"
        },
        "id": "3BRrMDfbGLLc",
        "outputId": "82de659d-53c3-43fb-9839-cd81cfaaebbf"
      },
      "execution_count": null,
      "outputs": [
        {
          "output_type": "stream",
          "name": "stdout",
          "text": [
            "0\n",
            "1\n"
          ]
        }
      ]
    },
    {
      "cell_type": "code",
      "source": [
        "# for문과 배열을 섞어보자.\n",
        "# 배열 = list => 변수의 집합 => 여러개의 변수를 묶어서 보관\n",
        "# 그럼 어떻게 안에 있는 자료를 접근할 수 있을까?? => 주소\n",
        "\n",
        "lt = [] # 빈 리스트를 만들기\n",
        "# 리스트와 관련된 명령어 알기\n",
        "# lt. => 점을 찍으면 사용할 수 있는 명령어가 나옴\n",
        "lt.append(1) # 뒤에 추가\n",
        "lt.append(10)\n",
        "lt.insert(1,5) # (번지 , 추가할 값) 리스트는 0 번지 부터 출발\n",
        "lt.insert(0,20) # [20 , 1 , 5 , 10]\n",
        "\n",
        "# append = 추가\n",
        "\n",
        "# 1번지에 있는 1을 삭제\n",
        "lt.remove(1) # 삭제할 때는 주소번지만 이용해서 삭제\n",
        "\n",
        "print(lt)"
      ],
      "metadata": {
        "colab": {
          "base_uri": "https://localhost:8080/"
        },
        "id": "UIzNagjbGZeb",
        "outputId": "887f1ef4-8c7c-4cbf-d17b-1e0996fb0f31"
      },
      "execution_count": null,
      "outputs": [
        {
          "output_type": "stream",
          "name": "stdout",
          "text": [
            "[20, 5, 10]\n"
          ]
        }
      ]
    },
    {
      "cell_type": "code",
      "source": [
        "# [0,10,20,30,40....1000] 인 배열 만들자\n",
        "# 0 번지 0, 1번지에 10 , 2번지에 20, 3번지에 30 .... n 번지 n*10\n",
        "a = []\n",
        "for i in range(101):\n",
        "  a.append(i*10)\n",
        "\n",
        "\n",
        "print(a)\n",
        "# 값을 찾아보고 있으면 해당 번지를 출력\n",
        "# 없으면 오류 출력"
      ],
      "metadata": {
        "colab": {
          "base_uri": "https://localhost:8080/"
        },
        "id": "W46APmuHIiy9",
        "outputId": "7bc680fe-67ce-4b0a-f511-3a48ad64ff45"
      },
      "execution_count": null,
      "outputs": [
        {
          "output_type": "stream",
          "name": "stdout",
          "text": [
            "[0, 10, 20, 30, 40, 50, 60, 70, 80, 90, 100, 110, 120, 130, 140, 150, 160, 170, 180, 190, 200, 210, 220, 230, 240, 250, 260, 270, 280, 290, 300, 310, 320, 330, 340, 350, 360, 370, 380, 390, 400, 410, 420, 430, 440, 450, 460, 470, 480, 490, 500, 510, 520, 530, 540, 550, 560, 570, 580, 590, 600, 610, 620, 630, 640, 650, 660, 670, 680, 690, 700, 710, 720, 730, 740, 750, 760, 770, 780, 790, 800, 810, 820, 830, 840, 850, 860, 870, 880, 890, 900, 910, 920, 930, 940, 950, 960, 970, 980, 990, 1000]\n"
          ]
        }
      ]
    },
    {
      "cell_type": "code",
      "source": [
        "#[0, 10, 20, 30, 40 ...   1000] 인 배열 만들자.\n",
        "# 0번지 0, 1번지에 10 , 2번지 20, 3번지 30,..... n번지 n*10\n",
        "a = []\n",
        "#for 변수 in 범위(리스트를 써도 되고, range() 이용)\n",
        "for k in range(0, 1001, 10):\n",
        "  a.append(k)\n",
        "print(a)\n",
        "\n",
        "pos = a.index(40)   \n",
        "#값을 찾아보고 있으면 해당 번지를 출력\n",
        "#없으면 오류 출력\n",
        "print(pos)\n",
        "\n",
        "\n",
        "str = 'hello world' #문자열도 리스트로 다룰 수 있음\n",
        "print(str[6])\n",
        "print(str.index('w'))\n",
        "#문자열에서는 find 명령어도 사용할 수 있음\n",
        "print(str.find('w'))\n",
        "#find는 찾지 못하면 오류대신 -1을 출력\n",
        "print(str.find('T'))\n"
      ],
      "metadata": {
        "id": "793pMbp_Nldi"
      },
      "execution_count": null,
      "outputs": []
    },
    {
      "cell_type": "code",
      "source": [
        "# 리스트에서 index를 쓰지 않고 해당 위치 반환\n",
        "\n",
        "a = [1,2,3,4,5,6,7]\n",
        "size = len(a) # a 배열의 길이 , a.lenght 아님 (자바에서 이렇게)\n",
        "find = int(input())\n",
        "\n",
        "# 힌트 for문 이용 => a의 크기 만큼 반복검사\n",
        "\n",
        "for i in range(size):\n",
        "  if a[i] == find:\n",
        "    print(i)\n",
        "\n",
        "    break\n",
        "# a 에서 쓸 수 있는 기능\n",
        "#pos = a.index(4) # 4의 위치는/\n",
        "#print(pos)\n",
        " \n",
        "\n",
        "\n",
        "\n",
        "\n",
        "\n",
        "\n",
        "\n",
        "# 결과\n",
        "# 4 입력 => 3(번지) 출력"
      ],
      "metadata": {
        "id": "lmK1hHlEMK4q",
        "colab": {
          "base_uri": "https://localhost:8080/"
        },
        "outputId": "6c9f3db3-f747-4fc9-a71c-03e928e401e0"
      },
      "execution_count": null,
      "outputs": [
        {
          "output_type": "stream",
          "name": "stdout",
          "text": [
            "5\n",
            "4\n"
          ]
        }
      ]
    },
    {
      "cell_type": "markdown",
      "source": [
        "python java 과정평가 산업기사\n",
        "java = 1년\n",
        "2학년 = 노잼\n",
        "결론 = 알아서 발전해라"
      ],
      "metadata": {
        "id": "np9sJS8blwE2"
      }
    },
    {
      "cell_type": "code",
      "source": [
        "#마지막부터 값 찾기\n",
        "#hint range 사용\n",
        "\n",
        "a = [0,1,2,3,4,5,6,7,8,9]\n",
        "size = len(a)\n",
        "find = int(input())\n",
        "pos = 8\n",
        "# range(5) 0-4까지\n",
        "# range (1,5) 1~4 까지\n",
        "# range(1,10,2) 1 ~ 10까지 2씩 증가\n",
        "# 10부터 0까지 1씩 감소 => rnage (11, 0, -1)\n",
        "\n",
        "#for i in range(size-1 , -1 ,-1):\n",
        "# if a[i] == find:\n",
        "#   print(i)\n",
        "#   break # 반복문을 빠져나간다\n",
        "\n",
        "for k un range(sizw):\n",
        "  pos = size -1 - k # k = 0 일때 10-1ㅏ=> 9-0 = 9번지 찾기\n",
        "  if a[pos] == find:\n",
        "  print(pos)\n",
        "  break\n"
      ],
      "metadata": {
        "colab": {
          "base_uri": "https://localhost:8080/",
          "height": 137
        },
        "id": "HNjFsNkOrg8v",
        "outputId": "ad176bba-8df8-4c19-f4e4-68da22f3c711"
      },
      "execution_count": null,
      "outputs": [
        {
          "output_type": "error",
          "ename": "SyntaxError",
          "evalue": "ignored",
          "traceback": [
            "\u001b[0;36m  File \u001b[0;32m\"<ipython-input-16-7c0bf6ef9ace>\"\u001b[0;36m, line \u001b[0;32m18\u001b[0m\n\u001b[0;31m    for k un range(sizw):\u001b[0m\n\u001b[0m          ^\u001b[0m\n\u001b[0;31mSyntaxError\u001b[0m\u001b[0;31m:\u001b[0m invalid syntax\n"
          ]
        }
      ]
    },
    {
      "cell_type": "code",
      "source": [
        "n = ['jon', 'fed', ]\n",
        "for k in n:\n",
        "\n",
        "  print(k)"
      ],
      "metadata": {
        "colab": {
          "base_uri": "https://localhost:8080/"
        },
        "id": "SrWpa7oD1g9t",
        "outputId": "1cc00dc7-6d98-4dc6-91f7-7385778c3723"
      },
      "execution_count": null,
      "outputs": [
        {
          "output_type": "stream",
          "name": "stdout",
          "text": [
            "jon\n",
            "fed\n"
          ]
        }
      ]
    },
    {
      "cell_type": "code",
      "source": [
        "# 반복문\n",
        "\n",
        "# 조건이 참인 동안 반복해라\n",
        "k = 0\n",
        "while k < 5:\n",
        "  print(k)\n",
        "  k = k+1\n",
        "\n",
        "print('bye bye')\n",
        "print(k)"
      ],
      "metadata": {
        "colab": {
          "base_uri": "https://localhost:8080/"
        },
        "id": "wL6rkfcA2xbF",
        "outputId": "cbabbee5-f64a-48a6-c01d-45aaaad307f6"
      },
      "execution_count": null,
      "outputs": [
        {
          "output_type": "stream",
          "name": "stdout",
          "text": [
            "0\n",
            "1\n",
            "2\n",
            "3\n",
            "4\n",
            "bye bye\n",
            "5\n"
          ]
        }
      ]
    },
    {
      "cell_type": "code",
      "source": [
        "# 패스워드를 검사하자\n",
        "# 비번이 맞을 때 까지 반복\n",
        "\n",
        "pw = '1234'  # 문자 1234\n",
        "\n",
        "my = input('패스워드를 입력하세요')\n",
        "\n",
        "while pw != my:\n",
        "   my = input('패스워드를 다시 입력하세요')\n",
        "\n",
        "\n",
        "print('welcome')\n",
        "\n",
        " # ! 부정의 의미"
      ],
      "metadata": {
        "colab": {
          "base_uri": "https://localhost:8080/",
          "height": 137
        },
        "id": "n92GODbT3xq3",
        "outputId": "ec3943cc-fa93-4615-c419-72ad0fdf93ec"
      },
      "execution_count": null,
      "outputs": [
        {
          "output_type": "error",
          "ename": "SyntaxError",
          "evalue": "ignored",
          "traceback": [
            "\u001b[0;36m  File \u001b[0;32m\"<ipython-input-37-b7f448bc19dc>\"\u001b[0;36m, line \u001b[0;32m8\u001b[0m\n\u001b[0;31m    while pw != my:\u001b[0m\n\u001b[0m             ^\u001b[0m\n\u001b[0;31mSyntaxError\u001b[0m\u001b[0;31m:\u001b[0m with Barry as BDFL, use '<>' instead of '!='\n"
          ]
        }
      ]
    },
    {
      "cell_type": "code",
      "source": [
        "pw = 1234' \n",
        "\n",
        "#  무조건 반복하다가 조건이 맞으면 탈출(break)\n",
        "#  True는 참을 False는 거짓을 => 대소문자 주의 do-while 은 파이썬에 없음\n",
        "\n",
        "while True :\n",
        "  my = input('비번입력')\n",
        "  if pw == my:\n",
        "    break"
      ],
      "metadata": {
        "colab": {
          "base_uri": "https://localhost:8080/"
        },
        "id": "6jerdhfM47OV",
        "outputId": "38a2d2fb-3bb3-4df9-9ea6-64a6b3838df0"
      },
      "execution_count": null,
      "outputs": [
        {
          "name": "stdout",
          "output_type": "stream",
          "text": [
            "비번입력1234\n",
            "비번입력1234\n",
            "비번입력1234\n",
            "비번입력1234\n",
            "비번입력1234\n",
            "비번입력1234\n",
            "비번입력124\n"
          ]
        }
      ]
    },
    {
      "cell_type": "code",
      "source": [
        "# 문제 1134번\n",
        "\n",
        "target = input('찾을 글자를 입력하세요 - KTX')\n",
        "scr = input('문자열을 입력하세요 - KINTEX')\n",
        "\n",
        "#target = 'KTX'\n",
        "#scr = 'KINTEX'\n",
        "t_pos = 0\n",
        "print(target[t_pos]) #문자열도 리스트임\n",
        "\n",
        "# t_pos = t_pos + 1\n",
        "\n",
        "for s in scr:\n",
        "  # KINTEXT의 K == KTX[0]인 K 같은지 비교\n",
        "  if s == target[t_pos]:\n",
        "    # 만약 글자를 찾으면 target의 다음 글자\n",
        "    t_pos = t_pos + 1\n",
        "\n",
        "    #글자수 만큼 다 찾으면 반복문 나오기\n",
        "    if len (target) == t_pos:\n",
        "      print('Y')\n",
        "      break\n",
        "print('끝')"
      ],
      "metadata": {
        "colab": {
          "base_uri": "https://localhost:8080/"
        },
        "id": "4eqA5ZHRI7wQ",
        "outputId": "033dcf22-bdf8-463b-ba8e-9fd4243260dd"
      },
      "execution_count": null,
      "outputs": [
        {
          "output_type": "stream",
          "name": "stdout",
          "text": [
            "찾을 글자를 입력하세요 - KTXBUS\n",
            "문자열을 입력하세요 - KINTEXUBSUS\n",
            "B\n",
            "Y\n",
            "끝\n"
          ]
        }
      ]
    },
    {
      "cell_type": "markdown",
      "source": [
        "값을 보관하기\n",
        "- 변수를 사용 -\n",
        "a = 1 <= 오른쪽에서 왼쪽으로 복사\n",
        "저장되는 것에 종류가 있을까? = 자료형(숫자,문자,참/거짓....), 자료의 형태를 저장하지 얺음\n",
        "\n",
        "- 만약 , 24명의 학생을 보관하려고 함. 변수가 몇개 필요한가? => 24개가 필요,너무많음 => 한번에 관리 할 수 없을까?\n",
        "\n",
        "- 리스트 : 변수들의 집합,모임 (리스트(배열)...,튜플,닥셔너리,집합)\n",
        "_ 사용법 : 주소가 있음 (0번지 부터 시작)\n",
        "- a[0] = 1 # a리스트의 0번지에 1을 저장\n",
        "- 번지에 꼭 숫자가 들어가야 할까? => 아니다 => 변수가 들어갈 수 있음(숫자인 변수)\n",
        "- arr = 1, lt[arr] = 1 # lt 리스트의 1번지에 1이 들어감 lt[1]\n",
        "- 리스트의 크기는 변함, 항목을 추가할 수도 있고, 뺄 수도 있음\n",
        "- 항목을 추가하는 함수는 append,빼는건 remove\n",
        "\n",
        "\n",
        "기능을 사용하기\n",
        "- 파이썬에서 만든 기능을 사용\n",
        "- 명령어()\n",
        "- print() , append() , len() , input() , int() , \n",
        "- 기능을 만들어서 사용할 수 있음. def:\n",
        "- print() , print 은 다른말\n",
        "\n",
        "문법 \n",
        "- 반복문 : 같은 작업을 여러번 반복시키는 명령\n",
        "- for : 일정 범위 만큼 반복\n",
        " - 예) 10번 반복해 X => 0~9 만큼 반복해\n",
        " = for 사용할 변수 in range(10) # 사용할 변수의 0~9까지 적용\n",
        " - range() 의 활용\n",
        " = range(10) : 0~9, rnage(5,10) : 5~9, range(3,10,2) : 3~9 , 2씩 증가\n",
        " - # 10,0,1 씩 감소 ( = -1씩 증가)\n",
        " = for i in rnage(10,-1,-1) : 10~0, -1씩 증가\n",
        " = for i in ramge( 시,끝,증)\n",
        "\n",
        "\n",
        "- while : 조건이 참일 동안 계속 반복\n",
        "\n",
        "\n",
        "\n",
        "\n",
        "\n",
        " \n",
        "\n"
      ],
      "metadata": {
        "id": "1eGEuTtBussq"
      }
    },
    {
      "cell_type": "code",
      "source": [
        "for i in range(10, -1, -1): # 10~0\n",
        "  print(i)"
      ],
      "metadata": {
        "id": "7FmRW_cZwiOy",
        "colab": {
          "base_uri": "https://localhost:8080/"
        },
        "outputId": "c06920ba-2538-4862-98d1-aca7020d3de9"
      },
      "execution_count": null,
      "outputs": [
        {
          "output_type": "stream",
          "name": "stdout",
          "text": [
            "10\n",
            "9\n",
            "8\n",
            "7\n",
            "6\n",
            "5\n",
            "4\n",
            "3\n",
            "2\n",
            "1\n",
            "0\n"
          ]
        }
      ]
    },
    {
      "cell_type": "code",
      "source": [
        "# 리스트와 for을 사용해보자 \n",
        "# 리스트를 만드는데 [0,1,2,3,4] 가 보관된 리스트 만들기\n",
        "# 선생님 예시\n",
        "\n",
        "lt = [] # 아무것도 없는 리스트 .append를 이용해 추가\n",
        "\n",
        "size = int(input('크기를 입력하세요'))\n",
        "for i in range(0,size):\n",
        "  lt.append(i)\n",
        "  \n",
        "#for i in range(0,5): # i 는 0부처 4 까지 보관  \n",
        "#  lt.append()\n",
        "\n",
        "print(lt)\n",
        "\n",
        "\n",
        "\n",
        "# lt.append(0)\n",
        "# lt.append(1)\n",
        "# lt.append(2)\n",
        "# lt.append(3)\n",
        "# lt.append(4)\n",
        "\n",
        "\n",
        "#for i in range(0,5,1):\n",
        "#  lt.append(i)\n",
        "# ^ 내 풀이\n"
      ],
      "metadata": {
        "colab": {
          "base_uri": "https://localhost:8080/"
        },
        "id": "KPuP05X05lgJ",
        "outputId": "f5ca0d07-ca37-413f-a78a-21f0d1e50555"
      },
      "execution_count": null,
      "outputs": [
        {
          "output_type": "stream",
          "name": "stdout",
          "text": [
            "크기를 입력하세요123\n",
            "[0, 1, 2, 3, 4, 5, 6, 7, 8, 9, 10, 11, 12, 13, 14, 15, 16, 17, 18, 19, 20, 21, 22, 23, 24, 25, 26, 27, 28, 29, 30, 31, 32, 33, 34, 35, 36, 37, 38, 39, 40, 41, 42, 43, 44, 45, 46, 47, 48, 49, 50, 51, 52, 53, 54, 55, 56, 57, 58, 59, 60, 61, 62, 63, 64, 65, 66, 67, 68, 69, 70, 71, 72, 73, 74, 75, 76, 77, 78, 79, 80, 81, 82, 83, 84, 85, 86, 87, 88, 89, 90, 91, 92, 93, 94, 95, 96, 97, 98, 99, 100, 101, 102, 103, 104, 105, 106, 107, 108, 109, 110, 111, 112, 113, 114, 115, 116, 117, 118, 119, 120, 121, 122]\n"
          ]
        }
      ]
    },
    {
      "cell_type": "code",
      "source": [
        "# while 조건 :\n",
        "#   기능\n",
        "\n",
        "# while 조건이 참일 동안 :\n",
        "#   기능\n",
        "\n",
        "\n",
        "# while 1>0:\n",
        "#   ans = input('Q를 입력하면 종료합니다.')\n",
        "\n",
        "# while 1>0:\n",
        "#   ans = input('Q를 입력하면 종료합니다.')\n",
        "#   if ans == 'Q':\n",
        "#     break\n",
        "\n",
        "ans = ''\n",
        "while ans != 'Q':\n",
        "   ans = input('Q를 입력하면 종료합니다.')  "
      ],
      "metadata": {
        "id": "zENir0HM76TB",
        "colab": {
          "base_uri": "https://localhost:8080/"
        },
        "outputId": "c1f788a8-30d6-4d28-b144-001a5119d215"
      },
      "execution_count": 3,
      "outputs": [
        {
          "name": "stdout",
          "output_type": "stream",
          "text": [
            "Q를 입력하면 종료합니다.D\n",
            "Q를 입력하면 종료합니다.F\n",
            "Q를 입력하면 종료합니다.Q\n"
          ]
        }
      ]
    },
    {
      "cell_type": "code",
      "source": [
        "# 숫자 하나를 입력받고, 그 숫자부터 1까지 출력, 단 while 이용\n",
        "n = int(input('숫자입력'))\n",
        "\n",
        "while n != 0 : # n 은 0 이랑 같지 않냐? = 참이니 실행, n이 10이라면 -1씩 빼주니 0과 같아지면 같지않냐에서 참이 아닌 거짓이니까 while문은 끝이나게 된다.\n",
        "  print(n)\n",
        "  n = n - 1 # n -= 1\n",
        "\n"
      ],
      "metadata": {
        "colab": {
          "base_uri": "https://localhost:8080/"
        },
        "id": "BI4gBmVIKmhr",
        "outputId": "4083f949-e2c0-4328-f832-7e9cb46f1df2"
      },
      "execution_count": 9,
      "outputs": [
        {
          "output_type": "stream",
          "name": "stdout",
          "text": [
            "숫자입력1000\n",
            "1000\n",
            "999\n",
            "998\n",
            "997\n",
            "996\n",
            "995\n",
            "994\n",
            "993\n",
            "992\n",
            "991\n",
            "990\n",
            "989\n",
            "988\n",
            "987\n",
            "986\n",
            "985\n",
            "984\n",
            "983\n",
            "982\n",
            "981\n",
            "980\n",
            "979\n",
            "978\n",
            "977\n",
            "976\n",
            "975\n",
            "974\n",
            "973\n",
            "972\n",
            "971\n",
            "970\n",
            "969\n",
            "968\n",
            "967\n",
            "966\n",
            "965\n",
            "964\n",
            "963\n",
            "962\n",
            "961\n",
            "960\n",
            "959\n",
            "958\n",
            "957\n",
            "956\n",
            "955\n",
            "954\n",
            "953\n",
            "952\n",
            "951\n",
            "950\n",
            "949\n",
            "948\n",
            "947\n",
            "946\n",
            "945\n",
            "944\n",
            "943\n",
            "942\n",
            "941\n",
            "940\n",
            "939\n",
            "938\n",
            "937\n",
            "936\n",
            "935\n",
            "934\n",
            "933\n",
            "932\n",
            "931\n",
            "930\n",
            "929\n",
            "928\n",
            "927\n",
            "926\n",
            "925\n",
            "924\n",
            "923\n",
            "922\n",
            "921\n",
            "920\n",
            "919\n",
            "918\n",
            "917\n",
            "916\n",
            "915\n",
            "914\n",
            "913\n",
            "912\n",
            "911\n",
            "910\n",
            "909\n",
            "908\n",
            "907\n",
            "906\n",
            "905\n",
            "904\n",
            "903\n",
            "902\n",
            "901\n",
            "900\n",
            "899\n",
            "898\n",
            "897\n",
            "896\n",
            "895\n",
            "894\n",
            "893\n",
            "892\n",
            "891\n",
            "890\n",
            "889\n",
            "888\n",
            "887\n",
            "886\n",
            "885\n",
            "884\n",
            "883\n",
            "882\n",
            "881\n",
            "880\n",
            "879\n",
            "878\n",
            "877\n",
            "876\n",
            "875\n",
            "874\n",
            "873\n",
            "872\n",
            "871\n",
            "870\n",
            "869\n",
            "868\n",
            "867\n",
            "866\n",
            "865\n",
            "864\n",
            "863\n",
            "862\n",
            "861\n",
            "860\n",
            "859\n",
            "858\n",
            "857\n",
            "856\n",
            "855\n",
            "854\n",
            "853\n",
            "852\n",
            "851\n",
            "850\n",
            "849\n",
            "848\n",
            "847\n",
            "846\n",
            "845\n",
            "844\n",
            "843\n",
            "842\n",
            "841\n",
            "840\n",
            "839\n",
            "838\n",
            "837\n",
            "836\n",
            "835\n",
            "834\n",
            "833\n",
            "832\n",
            "831\n",
            "830\n",
            "829\n",
            "828\n",
            "827\n",
            "826\n",
            "825\n",
            "824\n",
            "823\n",
            "822\n",
            "821\n",
            "820\n",
            "819\n",
            "818\n",
            "817\n",
            "816\n",
            "815\n",
            "814\n",
            "813\n",
            "812\n",
            "811\n",
            "810\n",
            "809\n",
            "808\n",
            "807\n",
            "806\n",
            "805\n",
            "804\n",
            "803\n",
            "802\n",
            "801\n",
            "800\n",
            "799\n",
            "798\n",
            "797\n",
            "796\n",
            "795\n",
            "794\n",
            "793\n",
            "792\n",
            "791\n",
            "790\n",
            "789\n",
            "788\n",
            "787\n",
            "786\n",
            "785\n",
            "784\n",
            "783\n",
            "782\n",
            "781\n",
            "780\n",
            "779\n",
            "778\n",
            "777\n",
            "776\n",
            "775\n",
            "774\n",
            "773\n",
            "772\n",
            "771\n",
            "770\n",
            "769\n",
            "768\n",
            "767\n",
            "766\n",
            "765\n",
            "764\n",
            "763\n",
            "762\n",
            "761\n",
            "760\n",
            "759\n",
            "758\n",
            "757\n",
            "756\n",
            "755\n",
            "754\n",
            "753\n",
            "752\n",
            "751\n",
            "750\n",
            "749\n",
            "748\n",
            "747\n",
            "746\n",
            "745\n",
            "744\n",
            "743\n",
            "742\n",
            "741\n",
            "740\n",
            "739\n",
            "738\n",
            "737\n",
            "736\n",
            "735\n",
            "734\n",
            "733\n",
            "732\n",
            "731\n",
            "730\n",
            "729\n",
            "728\n",
            "727\n",
            "726\n",
            "725\n",
            "724\n",
            "723\n",
            "722\n",
            "721\n",
            "720\n",
            "719\n",
            "718\n",
            "717\n",
            "716\n",
            "715\n",
            "714\n",
            "713\n",
            "712\n",
            "711\n",
            "710\n",
            "709\n",
            "708\n",
            "707\n",
            "706\n",
            "705\n",
            "704\n",
            "703\n",
            "702\n",
            "701\n",
            "700\n",
            "699\n",
            "698\n",
            "697\n",
            "696\n",
            "695\n",
            "694\n",
            "693\n",
            "692\n",
            "691\n",
            "690\n",
            "689\n",
            "688\n",
            "687\n",
            "686\n",
            "685\n",
            "684\n",
            "683\n",
            "682\n",
            "681\n",
            "680\n",
            "679\n",
            "678\n",
            "677\n",
            "676\n",
            "675\n",
            "674\n",
            "673\n",
            "672\n",
            "671\n",
            "670\n",
            "669\n",
            "668\n",
            "667\n",
            "666\n",
            "665\n",
            "664\n",
            "663\n",
            "662\n",
            "661\n",
            "660\n",
            "659\n",
            "658\n",
            "657\n",
            "656\n",
            "655\n",
            "654\n",
            "653\n",
            "652\n",
            "651\n",
            "650\n",
            "649\n",
            "648\n",
            "647\n",
            "646\n",
            "645\n",
            "644\n",
            "643\n",
            "642\n",
            "641\n",
            "640\n",
            "639\n",
            "638\n",
            "637\n",
            "636\n",
            "635\n",
            "634\n",
            "633\n",
            "632\n",
            "631\n",
            "630\n",
            "629\n",
            "628\n",
            "627\n",
            "626\n",
            "625\n",
            "624\n",
            "623\n",
            "622\n",
            "621\n",
            "620\n",
            "619\n",
            "618\n",
            "617\n",
            "616\n",
            "615\n",
            "614\n",
            "613\n",
            "612\n",
            "611\n",
            "610\n",
            "609\n",
            "608\n",
            "607\n",
            "606\n",
            "605\n",
            "604\n",
            "603\n",
            "602\n",
            "601\n",
            "600\n",
            "599\n",
            "598\n",
            "597\n",
            "596\n",
            "595\n",
            "594\n",
            "593\n",
            "592\n",
            "591\n",
            "590\n",
            "589\n",
            "588\n",
            "587\n",
            "586\n",
            "585\n",
            "584\n",
            "583\n",
            "582\n",
            "581\n",
            "580\n",
            "579\n",
            "578\n",
            "577\n",
            "576\n",
            "575\n",
            "574\n",
            "573\n",
            "572\n",
            "571\n",
            "570\n",
            "569\n",
            "568\n",
            "567\n",
            "566\n",
            "565\n",
            "564\n",
            "563\n",
            "562\n",
            "561\n",
            "560\n",
            "559\n",
            "558\n",
            "557\n",
            "556\n",
            "555\n",
            "554\n",
            "553\n",
            "552\n",
            "551\n",
            "550\n",
            "549\n",
            "548\n",
            "547\n",
            "546\n",
            "545\n",
            "544\n",
            "543\n",
            "542\n",
            "541\n",
            "540\n",
            "539\n",
            "538\n",
            "537\n",
            "536\n",
            "535\n",
            "534\n",
            "533\n",
            "532\n",
            "531\n",
            "530\n",
            "529\n",
            "528\n",
            "527\n",
            "526\n",
            "525\n",
            "524\n",
            "523\n",
            "522\n",
            "521\n",
            "520\n",
            "519\n",
            "518\n",
            "517\n",
            "516\n",
            "515\n",
            "514\n",
            "513\n",
            "512\n",
            "511\n",
            "510\n",
            "509\n",
            "508\n",
            "507\n",
            "506\n",
            "505\n",
            "504\n",
            "503\n",
            "502\n",
            "501\n",
            "500\n",
            "499\n",
            "498\n",
            "497\n",
            "496\n",
            "495\n",
            "494\n",
            "493\n",
            "492\n",
            "491\n",
            "490\n",
            "489\n",
            "488\n",
            "487\n",
            "486\n",
            "485\n",
            "484\n",
            "483\n",
            "482\n",
            "481\n",
            "480\n",
            "479\n",
            "478\n",
            "477\n",
            "476\n",
            "475\n",
            "474\n",
            "473\n",
            "472\n",
            "471\n",
            "470\n",
            "469\n",
            "468\n",
            "467\n",
            "466\n",
            "465\n",
            "464\n",
            "463\n",
            "462\n",
            "461\n",
            "460\n",
            "459\n",
            "458\n",
            "457\n",
            "456\n",
            "455\n",
            "454\n",
            "453\n",
            "452\n",
            "451\n",
            "450\n",
            "449\n",
            "448\n",
            "447\n",
            "446\n",
            "445\n",
            "444\n",
            "443\n",
            "442\n",
            "441\n",
            "440\n",
            "439\n",
            "438\n",
            "437\n",
            "436\n",
            "435\n",
            "434\n",
            "433\n",
            "432\n",
            "431\n",
            "430\n",
            "429\n",
            "428\n",
            "427\n",
            "426\n",
            "425\n",
            "424\n",
            "423\n",
            "422\n",
            "421\n",
            "420\n",
            "419\n",
            "418\n",
            "417\n",
            "416\n",
            "415\n",
            "414\n",
            "413\n",
            "412\n",
            "411\n",
            "410\n",
            "409\n",
            "408\n",
            "407\n",
            "406\n",
            "405\n",
            "404\n",
            "403\n",
            "402\n",
            "401\n",
            "400\n",
            "399\n",
            "398\n",
            "397\n",
            "396\n",
            "395\n",
            "394\n",
            "393\n",
            "392\n",
            "391\n",
            "390\n",
            "389\n",
            "388\n",
            "387\n",
            "386\n",
            "385\n",
            "384\n",
            "383\n",
            "382\n",
            "381\n",
            "380\n",
            "379\n",
            "378\n",
            "377\n",
            "376\n",
            "375\n",
            "374\n",
            "373\n",
            "372\n",
            "371\n",
            "370\n",
            "369\n",
            "368\n",
            "367\n",
            "366\n",
            "365\n",
            "364\n",
            "363\n",
            "362\n",
            "361\n",
            "360\n",
            "359\n",
            "358\n",
            "357\n",
            "356\n",
            "355\n",
            "354\n",
            "353\n",
            "352\n",
            "351\n",
            "350\n",
            "349\n",
            "348\n",
            "347\n",
            "346\n",
            "345\n",
            "344\n",
            "343\n",
            "342\n",
            "341\n",
            "340\n",
            "339\n",
            "338\n",
            "337\n",
            "336\n",
            "335\n",
            "334\n",
            "333\n",
            "332\n",
            "331\n",
            "330\n",
            "329\n",
            "328\n",
            "327\n",
            "326\n",
            "325\n",
            "324\n",
            "323\n",
            "322\n",
            "321\n",
            "320\n",
            "319\n",
            "318\n",
            "317\n",
            "316\n",
            "315\n",
            "314\n",
            "313\n",
            "312\n",
            "311\n",
            "310\n",
            "309\n",
            "308\n",
            "307\n",
            "306\n",
            "305\n",
            "304\n",
            "303\n",
            "302\n",
            "301\n",
            "300\n",
            "299\n",
            "298\n",
            "297\n",
            "296\n",
            "295\n",
            "294\n",
            "293\n",
            "292\n",
            "291\n",
            "290\n",
            "289\n",
            "288\n",
            "287\n",
            "286\n",
            "285\n",
            "284\n",
            "283\n",
            "282\n",
            "281\n",
            "280\n",
            "279\n",
            "278\n",
            "277\n",
            "276\n",
            "275\n",
            "274\n",
            "273\n",
            "272\n",
            "271\n",
            "270\n",
            "269\n",
            "268\n",
            "267\n",
            "266\n",
            "265\n",
            "264\n",
            "263\n",
            "262\n",
            "261\n",
            "260\n",
            "259\n",
            "258\n",
            "257\n",
            "256\n",
            "255\n",
            "254\n",
            "253\n",
            "252\n",
            "251\n",
            "250\n",
            "249\n",
            "248\n",
            "247\n",
            "246\n",
            "245\n",
            "244\n",
            "243\n",
            "242\n",
            "241\n",
            "240\n",
            "239\n",
            "238\n",
            "237\n",
            "236\n",
            "235\n",
            "234\n",
            "233\n",
            "232\n",
            "231\n",
            "230\n",
            "229\n",
            "228\n",
            "227\n",
            "226\n",
            "225\n",
            "224\n",
            "223\n",
            "222\n",
            "221\n",
            "220\n",
            "219\n",
            "218\n",
            "217\n",
            "216\n",
            "215\n",
            "214\n",
            "213\n",
            "212\n",
            "211\n",
            "210\n",
            "209\n",
            "208\n",
            "207\n",
            "206\n",
            "205\n",
            "204\n",
            "203\n",
            "202\n",
            "201\n",
            "200\n",
            "199\n",
            "198\n",
            "197\n",
            "196\n",
            "195\n",
            "194\n",
            "193\n",
            "192\n",
            "191\n",
            "190\n",
            "189\n",
            "188\n",
            "187\n",
            "186\n",
            "185\n",
            "184\n",
            "183\n",
            "182\n",
            "181\n",
            "180\n",
            "179\n",
            "178\n",
            "177\n",
            "176\n",
            "175\n",
            "174\n",
            "173\n",
            "172\n",
            "171\n",
            "170\n",
            "169\n",
            "168\n",
            "167\n",
            "166\n",
            "165\n",
            "164\n",
            "163\n",
            "162\n",
            "161\n",
            "160\n",
            "159\n",
            "158\n",
            "157\n",
            "156\n",
            "155\n",
            "154\n",
            "153\n",
            "152\n",
            "151\n",
            "150\n",
            "149\n",
            "148\n",
            "147\n",
            "146\n",
            "145\n",
            "144\n",
            "143\n",
            "142\n",
            "141\n",
            "140\n",
            "139\n",
            "138\n",
            "137\n",
            "136\n",
            "135\n",
            "134\n",
            "133\n",
            "132\n",
            "131\n",
            "130\n",
            "129\n",
            "128\n",
            "127\n",
            "126\n",
            "125\n",
            "124\n",
            "123\n",
            "122\n",
            "121\n",
            "120\n",
            "119\n",
            "118\n",
            "117\n",
            "116\n",
            "115\n",
            "114\n",
            "113\n",
            "112\n",
            "111\n",
            "110\n",
            "109\n",
            "108\n",
            "107\n",
            "106\n",
            "105\n",
            "104\n",
            "103\n",
            "102\n",
            "101\n",
            "100\n",
            "99\n",
            "98\n",
            "97\n",
            "96\n",
            "95\n",
            "94\n",
            "93\n",
            "92\n",
            "91\n",
            "90\n",
            "89\n",
            "88\n",
            "87\n",
            "86\n",
            "85\n",
            "84\n",
            "83\n",
            "82\n",
            "81\n",
            "80\n",
            "79\n",
            "78\n",
            "77\n",
            "76\n",
            "75\n",
            "74\n",
            "73\n",
            "72\n",
            "71\n",
            "70\n",
            "69\n",
            "68\n",
            "67\n",
            "66\n",
            "65\n",
            "64\n",
            "63\n",
            "62\n",
            "61\n",
            "60\n",
            "59\n",
            "58\n",
            "57\n",
            "56\n",
            "55\n",
            "54\n",
            "53\n",
            "52\n",
            "51\n",
            "50\n",
            "49\n",
            "48\n",
            "47\n",
            "46\n",
            "45\n",
            "44\n",
            "43\n",
            "42\n",
            "41\n",
            "40\n",
            "39\n",
            "38\n",
            "37\n",
            "36\n",
            "35\n",
            "34\n",
            "33\n",
            "32\n",
            "31\n",
            "30\n",
            "29\n",
            "28\n",
            "27\n",
            "26\n",
            "25\n",
            "24\n",
            "23\n",
            "22\n",
            "21\n",
            "20\n",
            "19\n",
            "18\n",
            "17\n",
            "16\n",
            "15\n",
            "14\n",
            "13\n",
            "12\n",
            "11\n",
            "10\n",
            "9\n",
            "8\n",
            "7\n",
            "6\n",
            "5\n",
            "4\n",
            "3\n",
            "2\n",
            "1\n"
          ]
        }
      ]
    },
    {
      "cell_type": "code",
      "source": [
        "# 숫자를 하나 입력받아서 입력수부터 100까지 출력 10 11 12.. 100출력\n",
        "\n",
        "n = int(input('숫자를 입력하세요'))\n",
        "\n",
        "while n != 101: # n과 101은 같지 않다 참 = 실행 / 101과 같아지면 거짓 = 멈춤\n",
        "  print(n) \n",
        "  if n > 101:  # n 이 101보다 크면 -1 씩 해주기 근데 101과 같아지면 멈추니까 150에서 시작하면 102에서 멈춘다.. 이걸 어쩌지?\n",
        "    n -= 1\n",
        "  elif n < 101: # n 이 101보다 작으면 +1 씩 해주기 여긴 잘 되는데\n",
        "    n += 1\n"
      ],
      "metadata": {
        "colab": {
          "base_uri": "https://localhost:8080/"
        },
        "id": "izBXvvTcPLh_",
        "outputId": "45a14619-f654-4cba-99c5-5733bbc44508"
      },
      "execution_count": 15,
      "outputs": [
        {
          "output_type": "stream",
          "name": "stdout",
          "text": [
            "숫자를 입력하세요200\n",
            "200\n",
            "199\n",
            "198\n",
            "197\n",
            "196\n",
            "195\n",
            "194\n",
            "193\n",
            "192\n",
            "191\n",
            "190\n",
            "189\n",
            "188\n",
            "187\n",
            "186\n",
            "185\n",
            "184\n",
            "183\n",
            "182\n",
            "181\n",
            "180\n",
            "179\n",
            "178\n",
            "177\n",
            "176\n",
            "175\n",
            "174\n",
            "173\n",
            "172\n",
            "171\n",
            "170\n",
            "169\n",
            "168\n",
            "167\n",
            "166\n",
            "165\n",
            "164\n",
            "163\n",
            "162\n",
            "161\n",
            "160\n",
            "159\n",
            "158\n",
            "157\n",
            "156\n",
            "155\n",
            "154\n",
            "153\n",
            "152\n",
            "151\n",
            "150\n",
            "149\n",
            "148\n",
            "147\n",
            "146\n",
            "145\n",
            "144\n",
            "143\n",
            "142\n",
            "141\n",
            "140\n",
            "139\n",
            "138\n",
            "137\n",
            "136\n",
            "135\n",
            "134\n",
            "133\n",
            "132\n",
            "131\n",
            "130\n",
            "129\n",
            "128\n",
            "127\n",
            "126\n",
            "125\n",
            "124\n",
            "123\n",
            "122\n",
            "121\n",
            "120\n",
            "119\n",
            "118\n",
            "117\n",
            "116\n",
            "115\n",
            "114\n",
            "113\n",
            "112\n",
            "111\n",
            "110\n",
            "109\n",
            "108\n",
            "107\n",
            "106\n",
            "105\n",
            "104\n",
            "103\n",
            "102\n"
          ]
        }
      ]
    },
    {
      "cell_type": "code",
      "source": [
        "n = int(input('숫자를 입력하세요'))\n",
        "b = True\n",
        "\n",
        "while b: \n",
        "  if n == 100: # 만약 n 이 100과 같다면 b는 거짓이 된다\n",
        "    b = False\n",
        "  print(n)\n",
        "  if n > 100:  # n이 100보다 크면 -1씩 해주고\n",
        "    n -= 1\n",
        "  elif n < 100: # n이 100보다 작으면 +1씩 해준다 \n",
        "    n += 1\n",
        "  \n"
      ],
      "metadata": {
        "colab": {
          "base_uri": "https://localhost:8080/"
        },
        "id": "GSMkhgHIR38o",
        "outputId": "0f00c5e6-2ae9-420d-c548-dacc897dbdd2"
      },
      "execution_count": 18,
      "outputs": [
        {
          "output_type": "stream",
          "name": "stdout",
          "text": [
            "숫자를 입력하세요110\n",
            "110\n",
            "109\n",
            "108\n",
            "107\n",
            "106\n",
            "105\n",
            "104\n",
            "103\n",
            "102\n",
            "101\n",
            "100\n"
          ]
        }
      ]
    }
  ],
  "metadata": {
    "colab": {
      "provenance": [],
      "authorship_tag": "ABX9TyPk0Pf1qR4InYtnoHpfLPme",
      "include_colab_link": true
    },
    "kernelspec": {
      "display_name": "Python 3",
      "name": "python3"
    },
    "language_info": {
      "name": "python"
    }
  },
  "nbformat": 4,
  "nbformat_minor": 0
}