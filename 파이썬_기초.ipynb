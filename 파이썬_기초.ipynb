{
  "cells": [
    {
      "cell_type": "markdown",
      "metadata": {
        "id": "view-in-github",
        "colab_type": "text"
      },
      "source": [
        "<a href=\"https://colab.research.google.com/github/ChaeYeEun/BaekjoonHub/blob/main/%ED%8C%8C%EC%9D%B4%EC%8D%AC_%EA%B8%B0%EC%B4%88.ipynb\" target=\"_parent\"><img src=\"https://colab.research.google.com/assets/colab-badge.svg\" alt=\"Open In Colab\"/></a>"
      ]
    },
    {
      "cell_type": "markdown",
      "metadata": {
        "id": "A0nTN-7WtELy"
      },
      "source": [
        " 파이썬은 띄어쓰기 조심!\n",
        " print문장은 화면에 출력해주는 명령어\n",
        " "
      ]
    },
    {
      "cell_type": "code",
      "execution_count": null,
      "metadata": {
        "colab": {
          "base_uri": "https://localhost:8080/"
        },
        "id": "ZGc3dJ8Lr_cd",
        "outputId": "417236dd-a9d2-4b3e-c13f-2982c4b91cd5"
      },
      "outputs": [
        {
          "name": "stdout",
          "output_type": "stream",
          "text": [
            "우와\n"
          ]
        }
      ],
      "source": [
        "print('우와') \n"
      ]
    },
    {
      "cell_type": "markdown",
      "metadata": {
        "id": "JCdcZAgou52Y"
      },
      "source": [
        "파이썬에서 변수만들기는 쉬움. 그냥 약속되지 않은 이름을 사용하면 됨."
      ]
    },
    {
      "cell_type": "code",
      "execution_count": null,
      "metadata": {
        "colab": {
          "base_uri": "https://localhost:8080/"
        },
        "id": "-q9ZSZyytY_R",
        "outputId": "ee88ef59-bd94-4b00-b183-27f049b17cc3"
      },
      "outputs": [
        {
          "name": "stdout",
          "output_type": "stream",
          "text": [
            "안녕하세요 난 채예은17\n"
          ]
        }
      ],
      "source": [
        "name = '채예은'  \n",
        "age = '17'\n",
        "print('안녕하세요 난 ' + name + age )"
      ]
    },
    {
      "cell_type": "markdown",
      "metadata": {
        "id": "qCfZjycHvTkw"
      },
      "source": [
        "안녕하세요 난 채예은이고 17살 입니다"
      ]
    },
    {
      "cell_type": "code",
      "execution_count": null,
      "metadata": {
        "colab": {
          "base_uri": "https://localhost:8080/"
        },
        "id": "U_peeodu_6O9",
        "outputId": "864967aa-efad-4a54-e1b9-158e85535fa8"
      },
      "outputs": [
        {
          "name": "stdout",
          "output_type": "stream",
          "text": [
            "2\n",
            "1.6666666666666667\n"
          ]
        }
      ],
      "source": [
        "#연산자\n",
        "a = 5\n",
        "b = 3\n",
        "print(a%b) #나머지를 구하는 연산자\n",
        "print(a/b) "
      ]
    },
    {
      "cell_type": "code",
      "execution_count": null,
      "metadata": {
        "colab": {
          "base_uri": "https://localhost:8080/"
        },
        "id": "doWpW8nfAkJs",
        "outputId": "abbebe37-87b8-4fa3-c1d2-49e04b76af30"
      },
      "outputs": [
        {
          "name": "stdout",
          "output_type": "stream",
          "text": [
            "False\n",
            "True\n"
          ]
        }
      ],
      "source": [
        "a = 5\n",
        "b = 3\n",
        "print(a == b) # == 같은가? , 비교연산자\n",
        "print(a != b) # != 같지 않은가?"
      ]
    },
    {
      "cell_type": "code",
      "execution_count": null,
      "metadata": {
        "colab": {
          "base_uri": "https://localhost:8080/"
        },
        "id": "U1qnOgYxBGWl",
        "outputId": "b401900d-8061-4d5e-a7af-7108a4fcdd32"
      },
      "outputs": [
        {
          "name": "stdout",
          "output_type": "stream",
          "text": [
            "2 5\n"
          ]
        }
      ],
      "source": [
        "a = 5\n",
        "b = 2\n",
        "t = b\n",
        "b = a\n",
        "a = t\n",
        "print(a , b) #문제 : 서로 반대가 되게, 2 5 "
      ]
    },
    {
      "cell_type": "code",
      "execution_count": null,
      "metadata": {
        "colab": {
          "base_uri": "https://localhost:8080/"
        },
        "id": "LLUsB78ODUHU",
        "outputId": "0ef1de70-ac16-4e58-8a38-bd20220198de"
      },
      "outputs": [
        {
          "name": "stdout",
          "output_type": "stream",
          "text": [
            "10 5\n"
          ]
        }
      ],
      "source": [
        "# 번외  a,b만으로 자리 바꾸기 할 수 있을까?\n",
        "\n",
        "a = 5\n",
        "b = 10\n",
        "\n",
        "a = a + b #15\n",
        "b = a - b #5\n",
        "a = a - b #10\n",
        "\n",
        "print(a, b)"
      ]
    },
    {
      "cell_type": "code",
      "execution_count": null,
      "metadata": {
        "id": "x9oGT8i3c15N"
      },
      "outputs": [],
      "source": [
        "str = 'hello' # 문자열"
      ]
    },
    {
      "cell_type": "code",
      "execution_count": null,
      "metadata": {
        "colab": {
          "base_uri": "https://localhost:8080/"
        },
        "id": "z3R27GuWdDdM",
        "outputId": "f77bf9b2-18c7-48f5-c87b-d80348f3fbcb"
      },
      "outputs": [
        {
          "name": "stdout",
          "output_type": "stream",
          "text": [
            "hello\n"
          ]
        }
      ],
      "source": [
        "print(str)\n"
      ]
    },
    {
      "cell_type": "code",
      "execution_count": null,
      "metadata": {
        "colab": {
          "base_uri": "https://localhost:8080/"
        },
        "id": "_9kaAgbLdHvF",
        "outputId": "fffafbaf-a5ef-42be-cbf9-9102de650cd7"
      },
      "outputs": [
        {
          "name": "stdout",
          "output_type": "stream",
          "text": [
            "100\n",
            "채예은\n",
            "['김개똥', 100, '채예은']\n"
          ]
        }
      ],
      "source": [
        "# 우리반 학생의 성적을 저장. ( 1 ~ 10번 )\n",
        "# 방법 1\n",
        "s1 = '김개똥'\n",
        "s2 = '홍길동'\n",
        "# 만약 학생이 100명이라면 ? => 100개의 변수가 필요\n",
        "# 하나의 묶음으로 보관  = list (다른 언어에서는 배열 array)\n",
        "\n",
        "student = ['김개똥', '홍길동', 100] # 리스트(배열)에 다른 형태의 자료형 보관가능\n",
        "print(student[2])  # 리스트(배열) 번지는 0부터 시작\n",
        "\n",
        "student .append('채예은') #append는 새로운 항목을 추가 할 때\n",
        "print(student[3])\n",
        "\n",
        "# 리스트에서 쓸 수 있는 기능들은 어떤게 있을까??\n",
        "\n",
        "# 리스트에서 특정항목)(홍길동) 삭제\n",
        "student .pop (1) # 홍길동만 삭제\n",
        "# 다시 출력\n",
        "print(student)\n",
        " \n"
      ]
    },
    {
      "cell_type": "code",
      "execution_count": null,
      "metadata": {
        "colab": {
          "base_uri": "https://localhost:8080/"
        },
        "id": "nPoFEYJYjAE8",
        "outputId": "f4c634ba-e772-41bd-d158-eade29ea18d5"
      },
      "outputs": [
        {
          "name": "stdout",
          "output_type": "stream",
          "text": [
            "['김개똥', 100, 50, 70]\n",
            "100\n"
          ]
        }
      ],
      "source": [
        "from os import pipe\n",
        "# 만약 1번의 이름, 국어, 영어, 정보 성적을 보관\n",
        "# 2번의 이름, 국어, 영어, 정보\n",
        "s1 = ['김개똥', 100, 50, 70]\n",
        "s2 = ['홍길동', 60 , 70 ,100]\n",
        "\n",
        "cls = [s1, s2] # 리스트 (배열) 안에 리스트를 넣을 수 있음 => 2차원 리스트 (배열)\n",
        "print(cls[0])\n",
        "a1 = cls[0] # s1 = 김개똥의 배열\n",
        "print(cls[0][1])\n",
        "\n",
        "# 배열과 리스트가 같을까?? => 배열은 크기 = 변경불가 , 리스트는 변함\n",
        "\n"
      ]
    },
    {
      "cell_type": "code",
      "execution_count": null,
      "metadata": {
        "colab": {
          "base_uri": "https://localhost:8080/"
        },
        "id": "xJRFB12-pleG",
        "outputId": "6dcb5dfc-1b8d-4e08-e97c-d4ace336b144"
      },
      "outputs": [
        {
          "name": "stdout",
          "output_type": "stream",
          "text": [
            "<class 'list'>\n",
            "<class 'float'>\n",
            "<class 'int'>\n"
          ]
        }
      ],
      "source": [
        "# 여기만 실행 ㄴㄴ\n",
        "# type(변수) = 변수의 타입 (자료의 형태를 출력)\n",
        "\n",
        "print(type(cls)) #cls의 자료형\n",
        "\n",
        "num = 3.141592\n",
        "print(type(num))\n",
        "\n",
        "num2 = 3\n",
        "print(type(num2))\n",
        "\n"
      ]
    },
    {
      "cell_type": "code",
      "execution_count": null,
      "metadata": {
        "colab": {
          "base_uri": "https://localhost:8080/"
        },
        "id": "Zlr7m_YerMi-",
        "outputId": "49d7049d-5bee-422d-e492-3de53be8371b"
      },
      "outputs": [
        {
          "name": "stdout",
          "output_type": "stream",
          "text": [
            "이름을 입력하세요\n",
            "우롹굳\n",
            "hello 우롹굳\n"
          ]
        }
      ],
      "source": [
        "# 사용자 입력\n",
        "print('이름을 입력하세요')\n",
        "name = input() # 입력하기 기능\n",
        "#또는 name = input('이름을 입력하세요')\n",
        "#print('hello', name )\n",
        "#print('hello' + name)\n",
        "print(f'hello {name}')  # f' 로 시작하는 포맷팅을 이용해서 변수를 안에 표현 가능\n",
        "\n"
      ]
    },
    {
      "cell_type": "code",
      "execution_count": null,
      "metadata": {
        "colab": {
          "base_uri": "https://localhost:8080/"
        },
        "id": "twznMBqD9ZcU",
        "outputId": "19a1c553-40ec-4d5a-b553-258b28c817b3"
      },
      "outputs": [
        {
          "name": "stdout",
          "output_type": "stream",
          "text": [
            "o\n",
            "11\n",
            "5\n"
          ]
        }
      ],
      "source": [
        " # 리스트에 관해서 .. 문자열\n",
        " # string = 문자열\n",
        "str = 'hello world'\n",
        "print(str[4]) # [ 'h' , 'e' 'l'[.....] ] 으로 저장되고 있음\n",
        "print(  len(str)  ) # len() 기능은 문자의 길이를 출력\n",
        "\n",
        "list = [1,2,3,4,5] #배열의 길이를 알 수 있을까?\n",
        "print(len(list))"
      ]
    },
    {
      "cell_type": "code",
      "execution_count": null,
      "metadata": {
        "colab": {
          "base_uri": "https://localhost:8080/"
        },
        "id": "ScEKaxmg-6Vs",
        "outputId": "fd742ceb-5a3f-40c6-e60f-66c5950d1674"
      },
      "outputs": [
        {
          "name": "stdout",
          "output_type": "stream",
          "text": [
            "2\n",
            "반복중\n",
            "3\n",
            "반복중\n",
            "4\n",
            "반복중\n"
          ]
        }
      ],
      "source": [
        "# 반복문 - 반복된 작업을 쉽게\n",
        "# 상황 - 리스트 [0,0,0,0,0,0,...] => 100칸 생성\n",
        "#list = [0,0.... 0 ]또는\n",
        "# list = [] list.append(0)\n",
        "\n",
        "#, 반복문 for while\n",
        "# for = 제한된 횟수 만큼 반복\n",
        "# k = 반복하면서 사용할 변수\n",
        "# range(범위) 0~범위 -1 까지\n",
        "for k in range(2,5): # 2부터 5-1까지\n",
        "# : 표시는 중괄호 시작이랑 같은 뜻\n",
        "# 안에 들여쓰기를 했음\n",
        "  print(k) # k는 0~9까지 변수\n",
        "  print('반복중')\n",
        "  "
      ]
    },
    {
      "cell_type": "code",
      "execution_count": null,
      "metadata": {
        "colab": {
          "base_uri": "https://localhost:8080/"
        },
        "id": "n-jdnI_9BZwj",
        "outputId": "ebfcbf9b-ea3e-4bb8-dfc1-97f52500833b"
      },
      "outputs": [
        {
          "name": "stdout",
          "output_type": "stream",
          "text": [
            "[0, 2, 4, 6, 8, 10, 12, 14, 16, 18, 20, 22, 24, 26, 28, 30, 32, 34, 36, 38, 40, 42, 44, 46, 48, 50, 52, 54, 56, 58, 60, 62, 64, 66, 68, 70, 72, 74, 76, 78, 80, 82, 84, 86, 88, 90, 92, 94, 96, 98, 100, 102, 104, 106, 108, 110, 112, 114, 116, 118, 120, 122, 124, 126, 128, 130, 132, 134, 136, 138, 140, 142, 144, 146, 148, 150, 152, 154, 156, 158, 160, 162, 164, 166, 168, 170, 172, 174, 176, 178, 180, 182, 184, 186, 188, 190, 192, 194, 196, 198]\n"
          ]
        }
      ],
      "source": [
        "# 100개의 리스트 배열을 만들고 [0,2,4,6 ....] 순서로 값을 초기화\n",
        "# 배열의 항목을 추가하는 명령어 append\n",
        "\n",
        "list = []\n",
        "\n",
        "# list . append(0)\n",
        "# list . append(2)\n",
        "# list . append(4)\n",
        "\n",
        "# for 변수 in 범위:\n",
        "# 반복내용\n",
        "for n in range(100):\n",
        " # n = 0,1,2,....99\n",
        " list.append(n*2)\n",
        "\n",
        "###################\n",
        "#... 100번 \n",
        "print(list)\n",
        "#[0,2,4,6,8....98]\n",
        "\n"
      ]
    },
    {
      "cell_type": "code",
      "execution_count": null,
      "metadata": {
        "colab": {
          "base_uri": "https://localhost:8080/"
        },
        "id": "Ts65gdf6FF_D",
        "outputId": "573bff6f-9c75-4e1e-a557-1fd0d28faecf"
      },
      "outputs": [
        {
          "name": "stdout",
          "output_type": "stream",
          "text": [
            "0\n",
            "2\n",
            "4\n",
            "6\n",
            "8\n",
            "10\n",
            "12\n",
            "14\n",
            "16\n",
            "18\n",
            "20\n",
            "22\n",
            "24\n",
            "26\n",
            "28\n",
            "30\n",
            "32\n",
            "34\n",
            "36\n",
            "38\n",
            "40\n",
            "42\n",
            "44\n",
            "46\n",
            "48\n",
            "50\n",
            "52\n",
            "54\n",
            "56\n",
            "58\n",
            "60\n",
            "62\n",
            "64\n",
            "66\n",
            "68\n",
            "70\n",
            "72\n",
            "74\n",
            "76\n",
            "78\n",
            "80\n",
            "82\n",
            "84\n",
            "86\n",
            "88\n",
            "90\n",
            "92\n",
            "94\n",
            "96\n",
            "98\n",
            "100\n",
            "102\n",
            "104\n",
            "106\n",
            "108\n",
            "110\n",
            "112\n",
            "114\n",
            "116\n",
            "118\n",
            "120\n",
            "122\n",
            "124\n",
            "126\n",
            "128\n",
            "130\n",
            "132\n",
            "134\n",
            "136\n",
            "138\n",
            "140\n",
            "142\n",
            "144\n",
            "146\n",
            "148\n",
            "150\n",
            "152\n",
            "154\n",
            "156\n",
            "158\n",
            "160\n",
            "162\n",
            "164\n",
            "166\n",
            "168\n",
            "170\n",
            "172\n",
            "174\n",
            "176\n",
            "178\n",
            "180\n",
            "182\n",
            "184\n",
            "186\n",
            "188\n",
            "190\n",
            "192\n",
            "194\n",
            "196\n",
            "198\n"
          ]
        }
      ],
      "source": [
        "\n",
        "for k in range(0,200,2):\n",
        "  \n",
        "  print(k)"
      ]
    },
    {
      "cell_type": "code",
      "execution_count": null,
      "metadata": {
        "colab": {
          "base_uri": "https://localhost:8080/"
        },
        "id": "wfzm0EL7e2Zj",
        "outputId": "4431ffed-f8dd-4546-9860-2ad951a32189"
      },
      "outputs": [
        {
          "name": "stdout",
          "output_type": "stream",
          "text": [
            "숫자를 입력하세요3\n",
            "333\n",
            "9\n"
          ]
        }
      ],
      "source": [
        "# for문은 반복문 => 똑같은 작업을 할 수 있도록 횟수를 지정하는 반복문\n",
        "# 입력하는 단의 구구단 출력\n",
        "# 예)  3입력 => 3 ....3*9 = 27\n",
        "n = input('숫자를 입력하세요')\n",
        "print(n*3) # input으로 받은 값은 문자로 처리됨 ((3을 세번 써로 인식\n",
        "k = int(n) # int 타입= 정수값으로 변경\n",
        "print(k*3)\n",
        "## ==>>>> n = int(input('숫자입력'))"
      ]
    },
    {
      "cell_type": "code",
      "execution_count": null,
      "metadata": {
        "colab": {
          "base_uri": "https://localhost:8080/"
        },
        "id": "dakb6xR9iBr6",
        "outputId": "46af1931-5119-48d1-98ae-2b0745752dea"
      },
      "outputs": [
        {
          "name": "stdout",
          "output_type": "stream",
          "text": [
            "몇단을 출력할까요?3\n",
            "3 * 1 = 3\n",
            "3 * 2 = 6\n",
            "3 * 3 = 9\n",
            "3 * 4 = 12\n",
            "3 * 5 = 15\n",
            "3 * 6 = 18\n",
            "3 * 7 = 21\n",
            "3 * 8 = 24\n",
            "3 * 9 = 27\n"
          ]
        }
      ],
      "source": [
        "# 진짜 입력 받은 숫자를 가지고 구구단 만들기\n",
        "# 입력하는 단의 구구단 출력\n",
        "# 예) 3 입력 => 3*1 = 3 ..... 3*9 =27\n",
        "\n",
        "num = int(input('몇단을 출력할까요?'))\n",
        "for i in range(1, 10): # 1부터 10 전까지 = 1~9 # 콜론 : 붙여야함\n",
        "  print(num, \"*\", i, \"=\", num * i)\n",
        "  #(f'{n} * {i} = {n*i}') 선생님이 하신 방법"
      ]
    },
    {
      "cell_type": "code",
      "execution_count": null,
      "metadata": {
        "colab": {
          "base_uri": "https://localhost:8080/"
        },
        "id": "oW4AotsztFC1",
        "outputId": "8e0809ad-ce83-4a43-b5b3-5be5d5f53cea"
      },
      "outputs": [
        {
          "name": "stdout",
          "output_type": "stream",
          "text": [
            "숫자 입력10\n",
            "1\n",
            "2\n",
            "X\n",
            "4\n",
            "5\n",
            "6\n",
            "7\n",
            "8\n",
            "9\n",
            "10\n"
          ]
        }
      ],
      "source": [
        "#  1~  입력수 n 까지 369게임   ( n = 2~9)\n",
        "#  3,6,9에는 대문자 X를 출력  \n",
        "# 그리고 숫자마다 공백\n",
        "\n",
        "# 0. 사용자 입력을 숫자로 받기\n",
        "# 1. 1부터 입력수 까지 출력 =>   for문 필요\n",
        "# 2. 3,6,9 인지 판단 하여 X로 변환\n",
        "\n",
        "k = int(   input('숫자 입력')         )\n",
        "for i in range(1, k+1):\n",
        "  #i 는   1부터 k까지 나옴...\n",
        "  \n",
        "  #if 조건 :   => 참인지 검사\n",
        "  # 참이라면 수행할 내용\n",
        "  #if i 가 3이랑 같은가  \n",
        "  if i == 3 :  #등호를 하나만 쓰면,   <-  복사,      == 비교하는것\n",
        "    #들여쓰기 조심\n",
        "    print('X')\n",
        "  else:  #그 밖에  if와 같이 사용됨. if는 혼자 쓸수 있지만, else 혼자 사용 불가\n",
        "    #들여쓰기 조심\n",
        "    print(i)\n"
      ]
    },
    {
      "cell_type": "code",
      "execution_count": null,
      "metadata": {
        "colab": {
          "base_uri": "https://localhost:8080/"
        },
        "id": "EqXLjNlux-Wc",
        "outputId": "05dc6cbe-d39d-4eef-8b9c-a3b71b7f1e3b"
      },
      "outputs": [
        {
          "name": "stdout",
          "output_type": "stream",
          "text": [
            "숫자10\n",
            "1\n",
            "2\n",
            "X\n",
            "4\n",
            "5\n",
            "X\n",
            "7\n",
            "8\n",
            "X\n",
            "10\n"
          ]
        }
      ],
      "source": [
        "# 나머지 연산자 알기\n",
        "n = int(input('숫자'))\n",
        "\n",
        "for i in range(1, n+1):\n",
        "  #만약 3으로 나누어 떨어지는가 ==  나머지가 0인가\n",
        "  #  % = 나머지 연산자 =>      10 % 3 = 1\n",
        "  if i % 3  ==  0:   # 3,6,9\n",
        "    print('X')\n",
        "  else:\n",
        "    print(i)"
      ]
    },
    {
      "cell_type": "code",
      "execution_count": null,
      "metadata": {
        "colab": {
          "base_uri": "https://localhost:8080/"
        },
        "id": "e7E1GUYjzdQb",
        "outputId": "a36c8786-1ad4-4ee1-9038-601e23f4144d"
      },
      "outputs": [
        {
          "name": "stdout",
          "output_type": "stream",
          "text": [
            "숫자10\n",
            "1\n",
            "2\n",
            "X\n",
            "4\n",
            "5\n",
            "X\n",
            "7\n",
            "8\n",
            "X\n",
            "10\n"
          ]
        }
      ],
      "source": [
        "# OR연산자, AND연산자  =>  OR 연산자\n",
        "n = int(input('숫자'))\n",
        "\n",
        "for i in range(1, n+1):  \n",
        "  if i == 3  or  i == 6   or   i == 9 :\n",
        "    print('X')\n",
        "  else:\n",
        "    print(i)"
      ]
    },
    {
      "cell_type": "code",
      "execution_count": null,
      "metadata": {
        "colab": {
          "base_uri": "https://localhost:8080/"
        },
        "id": "h35bGCgfECJH",
        "outputId": "be6e3d59-9f2e-4e90-b893-279bd5ab0483"
      },
      "outputs": [
        {
          "name": "stdout",
          "output_type": "stream",
          "text": [
            "입니다\n"
          ]
        }
      ],
      "source": [
        "# if문 복습 for 문과 연계\n",
        "# if = 조건 검사 = 만약 조건이 참이면 수행할 내용 작성\n",
        "\n",
        "a = 4\n",
        "# a가 5보다 크다면 \"큰수\" 출력,\n",
        "if a > 5 : \n",
        "  print('큰 수')\n",
        "  print('입니다')\n",
        "# 콜론 표시의 주의 ~\n",
        "# 클론 다음에는 현재보다 들여쓰기 (탭)\n",
        "\n",
        "## 차이점 \n",
        "\n",
        "if a > 5 : \n",
        "  print('큰 수')\n",
        "print('입니다')\n",
        "\n",
        "if a > 5 :\n",
        "  print('큰 수')\n",
        "else: #else = '그 밖에' 참이 아닌 경우는 전부 이쪽으로 오게됨.      \n",
        "  print('작은 수')\n",
        "\n"
      ]
    },
    {
      "cell_type": "code",
      "source": [],
      "metadata": {
        "id": "dpKSXOY_itA0"
      },
      "execution_count": null,
      "outputs": []
    },
    {
      "cell_type": "code",
      "execution_count": null,
      "metadata": {
        "colab": {
          "base_uri": "https://localhost:8080/",
          "height": 394
        },
        "id": "4xNJPzTrFld8",
        "outputId": "8aabcbb4-34fb-4a33-f3b5-cf14140068f0"
      },
      "outputs": [
        {
          "name": "stdout",
          "output_type": "stream",
          "text": [
            "정답은?13\n",
            "정답은?15\n",
            "정답\n",
            "정답은?235\n",
            "정답은?253\n",
            "정답은?5\n",
            "정답은?23523525\n",
            "정답은?asdf\n"
          ]
        },
        {
          "output_type": "error",
          "ename": "ValueError",
          "evalue": "ignored",
          "traceback": [
            "\u001b[0;31m---------------------------------------------------------------------------\u001b[0m",
            "\u001b[0;31mValueError\u001b[0m                                Traceback (most recent call last)",
            "\u001b[0;32m<ipython-input-1-a7fafa5ba6e7>\u001b[0m in \u001b[0;36m<module>\u001b[0;34m\u001b[0m\n\u001b[1;32m     10\u001b[0m \u001b[0;34m\u001b[0m\u001b[0m\n\u001b[1;32m     11\u001b[0m \u001b[0;32mfor\u001b[0m \u001b[0mi\u001b[0m \u001b[0;32min\u001b[0m \u001b[0mrange\u001b[0m\u001b[0;34m(\u001b[0m\u001b[0;36m10\u001b[0m\u001b[0;34m)\u001b[0m\u001b[0;34m:\u001b[0m\u001b[0;34m\u001b[0m\u001b[0;34m\u001b[0m\u001b[0m\n\u001b[0;32m---> 12\u001b[0;31m   \u001b[0mnum\u001b[0m \u001b[0;34m=\u001b[0m \u001b[0mint\u001b[0m\u001b[0;34m(\u001b[0m\u001b[0minput\u001b[0m\u001b[0;34m(\u001b[0m\u001b[0;34m'정답은?'\u001b[0m\u001b[0;34m)\u001b[0m\u001b[0;34m)\u001b[0m \u001b[0;31m# 입력 문자를 숫자로 받아침\u001b[0m\u001b[0;34m\u001b[0m\u001b[0;34m\u001b[0m\u001b[0m\n\u001b[0m\u001b[1;32m     13\u001b[0m \u001b[0;34m\u001b[0m\u001b[0m\n\u001b[1;32m     14\u001b[0m \u001b[0;31m# ans랑num랑 같은가?\u001b[0m\u001b[0;34m\u001b[0m\u001b[0;34m\u001b[0m\u001b[0m\n",
            "\u001b[0;31mValueError\u001b[0m: invalid literal for int() with base 10: 'asdf'"
          ]
        }
      ],
      "source": [
        "23325\n",
        "# 내가 생각한 숫자 맞추기\n",
        "# 10번의 기회동안 숫자를 맞춤\n",
        "# 10번의 기회 => 10번 동안의 입력을 받아야함\n",
        "# 10번 동안 => 10번 반복 => for문 필요\n",
        "# 입력받음 => input() 필요\n",
        "# 내가 입력한 숫자가 맞는지 검사 (만약 일치하나??) => if문 필요\n",
        "# 10번 반복할 동안 검사를 매번 수행 => for문 안에서 입력도 받고, 검사도 하고\n",
        "\n",
        "ans = 15 # 정답\n",
        "\n",
        "for i in range(10):\n",
        "  num = int(input('정답은?')) # 입력 문자를 숫자로 받아침\n",
        "  \n",
        "# ans랑num랑 같은가?\n",
        "  if ans == num:\n",
        "   print('정답')\n",
        "else:\n",
        "  print('오답')"
      ]
    },
    {
      "cell_type": "code",
      "source": [
        "#숫자를 입력받기 기능 => n이라고 하자\n",
        "#1부터 n까지 반복 => for\n",
        "#반복하면서 나오는 숫자가 짝수 인지 검사 %2 == 0\n",
        "#합 구하기 => 합을 보관하는 변수 sum을 만들자\n",
        "#sum변수를 누적해서 저장하자\n",
        "\n",
        "n = int(input(\"숫자를 입력\"))\n",
        "sum = 0 #합계\n",
        "for i in range(1, n+1):\n",
        "  #i가 1~n까지 값이 들어옴\n",
        "  #i가 짝수인지 판단\n",
        "  if i%2 == 0:\n",
        "    #sum에다 i를 누적한다는 것은 현재 sum에 i룰 추가 => sum에 보관\n",
        "    sum = sum+i\n",
        "\n",
        "#반복이 끝났음.\n",
        "print(sum)"
      ],
      "metadata": {
        "id": "5ifWficqjj0e",
        "colab": {
          "base_uri": "https://localhost:8080/"
        },
        "outputId": "abc194a0-a9c5-4118-f753-c8ad1ba44cfa"
      },
      "execution_count": null,
      "outputs": [
        {
          "output_type": "stream",
          "name": "stdout",
          "text": [
            "숫자를 입력12\n",
            "42\n"
          ]
        }
      ]
    },
    {
      "cell_type": "code",
      "source": [
        "n = int(input())\n",
        "sum = 0\n",
        "for i in range(2, n+1, 2):\n",
        "    sum = sum+i\n",
        "print(sum)"
      ],
      "metadata": {
        "id": "9Ep4wxOvqTby"
      },
      "execution_count": null,
      "outputs": []
    },
    {
      "cell_type": "code",
      "source": [
        "n = int(input())\n",
        "sum = 0\n",
        "\n",
        "if n%2 != 0:\n",
        "  n = n-1 #n을 마지막 짝수로 만듬\n",
        "mid = int(n/2) + 1\n",
        "sum = ((n+2) * int(n/4)) + mid\n",
        "print(sum)"
      ],
      "metadata": {
        "colab": {
          "base_uri": "https://localhost:8080/"
        },
        "id": "k_QO8fZEqd8T",
        "outputId": "0fe7d155-6647-4645-9407-89d0b971cf95"
      },
      "execution_count": null,
      "outputs": [
        {
          "output_type": "stream",
          "name": "stdout",
          "text": [
            "30\n",
            "240\n"
          ]
        }
      ]
    },
    {
      "cell_type": "code",
      "source": [
        "#가위 1 바위 2 보 3\n",
        "#\n",
        "\n",
        "me = int(input('뭐 낼래? 가위 1 바위 2 보 3' ))\n",
        "com =  int(input())\n",
        "\n",
        "#나의 컴의 비교를 해서 승, 패, 무승부 출력!\n",
        "\n",
        "if me == com:\n",
        "  print('무승부')\n",
        "\n",
        "#내가 이기는 경우\n",
        "# 나1 - 컴3 , 나2 - 컴1, 나3-컴2\n",
        "\n",
        "elif (me == 1 and com== 3) or (me == 2 and com == 1)  or (me == 3 and com == 2) :\n",
        "  print('승리') \n",
        "else:\n",
        "  print('패배')\n",
        "\n",
        "#elif me == 2 and com == 1 :\n",
        "#  print('승리')\n",
        "\n",
        "#elif me == 3 and com == 2 :\n",
        "#  print('승리')\n",
        "\n",
        "#if me == 3 : \n",
        "#  print('패배')"
      ],
      "metadata": {
        "colab": {
          "base_uri": "https://localhost:8080/"
        },
        "id": "AHm8DG4ev23l",
        "outputId": "07c88620-3038-4afa-a0e9-74e6926eb0cc"
      },
      "execution_count": null,
      "outputs": [
        {
          "output_type": "stream",
          "name": "stdout",
          "text": [
            "뭐 낼래? 가위 1 바위 2 보 3 2\n",
            "2\n",
            "무승부\n"
          ]
        }
      ]
    },
    {
      "cell_type": "markdown",
      "source": [
        "가위 1 바위 2 보 3\n",
        "\n",
        "이기는 조건\n",
        "1 3 = -2\n",
        "2 1 = 1\n",
        "3 2 = 1\n",
        "me - com == -2 or me - com == 1 로도 가능한데\n",
        "\n",
        "더 변태적인게잇다\n",
        "\n",
        "1 3 = -2 % 3 = 1\n",
        "2 1 = 1 % 3 = 1\n",
        "3 2 = 1 % 3 = 1\n",
        "\n",
        "\n",
        "\n",
        "for range(a,b,c)\n",
        "\n",
        "if else\n",
        "if elif\n",
        "if elis else\n",
        "\n",
        "elif, else 단독으로 쓰일 수 없다\n",
        "\n",
        "or,and 논리연산자\n",
        "== 비교연산자 (참 거짓)\n",
        "\n",
        "bool = 참 거짓을 보관하는 변수 타입\n",
        "int k\n",
        "char k \n",
        "\n",
        "\n"
      ],
      "metadata": {
        "id": "9KCPR8za2Vb-"
      }
    },
    {
      "cell_type": "code",
      "source": [
        "# 1이 입력되면 0 , 0 이 입력되면 1로 출력하는 프로그램 만들자 \n",
        "n = int(input())\n",
        "if n == 1:\n",
        "  print(0)\n",
        "elif n == 0:\n",
        "  print(1)\n",
        "\n",
        "#만약 n = input()\n",
        "#이면 n은 문자값이므로 오류가 난다\n",
        "#그래서 숫자로 바꾸어주는 int() 라는 명령어로 덮어줌\n"
      ],
      "metadata": {
        "colab": {
          "base_uri": "https://localhost:8080/"
        },
        "id": "ai62id1mDRA8",
        "outputId": "57712cc8-94f8-4ade-cbfe-02d583208790"
      },
      "execution_count": null,
      "outputs": [
        {
          "output_type": "stream",
          "name": "stdout",
          "text": [
            "1\n",
            "0\n"
          ]
        }
      ]
    },
    {
      "cell_type": "code",
      "source": [
        "# 쌤이 하신 거\n",
        "n = int(input())\n",
        "print(1-n)"
      ],
      "metadata": {
        "colab": {
          "base_uri": "https://localhost:8080/"
        },
        "id": "3BRrMDfbGLLc",
        "outputId": "82de659d-53c3-43fb-9839-cd81cfaaebbf"
      },
      "execution_count": null,
      "outputs": [
        {
          "output_type": "stream",
          "name": "stdout",
          "text": [
            "0\n",
            "1\n"
          ]
        }
      ]
    },
    {
      "cell_type": "code",
      "source": [
        "# for문과 배열을 섞어보자.\n",
        "# 배열 = list => 변수의 집합 => 여러개의 변수를 묶어서 보관\n",
        "# 그럼 어떻게 안에 있는 자료를 접근할 수 있을까?? => 주소\n",
        "\n",
        "lt = [] # 빈 리스트를 만들기\n",
        "# 리스트와 관련된 명령어 알기\n",
        "# lt. => 점을 찍으면 사용할 수 있는 명령어가 나옴\n",
        "lt.append(1) # 뒤에 추가\n",
        "lt.append(10)\n",
        "lt.insert(1,5) # (번지 , 추가할 값) 리스트는 0 번지 부터 출발\n",
        "lt.insert(0,20) # [20 , 1 , 5 , 10]\n",
        "\n",
        "# append = 추가\n",
        "\n",
        "# 1번지에 있는 1을 삭제\n",
        "lt.remove(1) # 삭제할 때는 주소번지만 이용해서 삭제\n",
        "\n",
        "print(lt)"
      ],
      "metadata": {
        "colab": {
          "base_uri": "https://localhost:8080/"
        },
        "id": "UIzNagjbGZeb",
        "outputId": "887f1ef4-8c7c-4cbf-d17b-1e0996fb0f31"
      },
      "execution_count": null,
      "outputs": [
        {
          "output_type": "stream",
          "name": "stdout",
          "text": [
            "[20, 5, 10]\n"
          ]
        }
      ]
    },
    {
      "cell_type": "code",
      "source": [
        "# [0,10,20,30,40....1000] 인 배열 만들자\n",
        "# 0 번지 0, 1번지에 10 , 2번지에 20, 3번지에 30 .... n 번지 n*10\n",
        "a = []\n",
        "for i in range(101):\n",
        "  a.append(i*10)\n",
        "\n",
        "\n",
        "print(a)\n",
        "# 값을 찾아보고 있으면 해당 번지를 출력\n",
        "# 없으면 오류 출력"
      ],
      "metadata": {
        "colab": {
          "base_uri": "https://localhost:8080/"
        },
        "id": "W46APmuHIiy9",
        "outputId": "7bc680fe-67ce-4b0a-f511-3a48ad64ff45"
      },
      "execution_count": null,
      "outputs": [
        {
          "output_type": "stream",
          "name": "stdout",
          "text": [
            "[0, 10, 20, 30, 40, 50, 60, 70, 80, 90, 100, 110, 120, 130, 140, 150, 160, 170, 180, 190, 200, 210, 220, 230, 240, 250, 260, 270, 280, 290, 300, 310, 320, 330, 340, 350, 360, 370, 380, 390, 400, 410, 420, 430, 440, 450, 460, 470, 480, 490, 500, 510, 520, 530, 540, 550, 560, 570, 580, 590, 600, 610, 620, 630, 640, 650, 660, 670, 680, 690, 700, 710, 720, 730, 740, 750, 760, 770, 780, 790, 800, 810, 820, 830, 840, 850, 860, 870, 880, 890, 900, 910, 920, 930, 940, 950, 960, 970, 980, 990, 1000]\n"
          ]
        }
      ]
    },
    {
      "cell_type": "code",
      "source": [
        "#[0, 10, 20, 30, 40 ...   1000] 인 배열 만들자.\n",
        "# 0번지 0, 1번지에 10 , 2번지 20, 3번지 30,..... n번지 n*10\n",
        "a = []\n",
        "#for 변수 in 범위(리스트를 써도 되고, range() 이용)\n",
        "for k in range(0, 1001, 10):\n",
        "  a.append(k)\n",
        "print(a)\n",
        "\n",
        "pos = a.index(40)   \n",
        "#값을 찾아보고 있으면 해당 번지를 출력\n",
        "#없으면 오류 출력\n",
        "print(pos)\n",
        "\n",
        "\n",
        "str = 'hello world' #문자열도 리스트로 다룰 수 있음\n",
        "print(str[6])\n",
        "print(str.index('w'))\n",
        "#문자열에서는 find 명령어도 사용할 수 있음\n",
        "print(str.find('w'))\n",
        "#find는 찾지 못하면 오류대신 -1을 출력\n",
        "print(str.find('T'))\n"
      ],
      "metadata": {
        "id": "793pMbp_Nldi"
      },
      "execution_count": null,
      "outputs": []
    },
    {
      "cell_type": "code",
      "source": [
        "# 리스트에서 index를 쓰지 않고 해당 위치 반환\n",
        "\n",
        "a = [1,2,3,4,5,6,7]\n",
        "size = len(a) # a 배열의 길이 , a.lenght 아님 (자바에서 이렇게)\n",
        "find = int(input())\n",
        "\n",
        "# 힌트 for문 이용 => a의 크기 만큼 반복검사\n",
        "\n",
        "for i in range(size):\n",
        "  if a[i] == find:\n",
        "    print(i)\n",
        "\n",
        "    break\n",
        "# a 에서 쓸 수 있는 기능\n",
        "#pos = a.index(4) # 4의 위치는/\n",
        "#print(pos)\n",
        " \n",
        "\n",
        "\n",
        "\n",
        "\n",
        "\n",
        "\n",
        "\n",
        "# 결과\n",
        "# 4 입력 => 3(번지) 출력"
      ],
      "metadata": {
        "id": "lmK1hHlEMK4q",
        "colab": {
          "base_uri": "https://localhost:8080/"
        },
        "outputId": "6c9f3db3-f747-4fc9-a71c-03e928e401e0"
      },
      "execution_count": 7,
      "outputs": [
        {
          "output_type": "stream",
          "name": "stdout",
          "text": [
            "5\n",
            "4\n"
          ]
        }
      ]
    },
    {
      "cell_type": "markdown",
      "source": [
        "python java 과정평가 산업기사\n",
        "java = 1년\n",
        "2학년 = 노잼\n",
        "결론 = 알아서 발전해라"
      ],
      "metadata": {
        "id": "np9sJS8blwE2"
      }
    },
    {
      "cell_type": "code",
      "source": [
        "#마지막부터 값 찾기\n",
        "#hint range 사용\n",
        "\n",
        "a = [0,1,2,3,4,5,6,7,8,9]\n",
        "\n",
        "find = int(input())\n",
        "\n",
        "\n",
        "\n"
      ],
      "metadata": {
        "id": "HNjFsNkOrg8v"
      },
      "execution_count": null,
      "outputs": []
    }
  ],
  "metadata": {
    "colab": {
      "provenance": [],
      "authorship_tag": "ABX9TyO4qjiX0q/GcMbQk3j96+J7",
      "include_colab_link": true
    },
    "kernelspec": {
      "display_name": "Python 3",
      "name": "python3"
    },
    "language_info": {
      "name": "python"
    }
  },
  "nbformat": 4,
  "nbformat_minor": 0
}